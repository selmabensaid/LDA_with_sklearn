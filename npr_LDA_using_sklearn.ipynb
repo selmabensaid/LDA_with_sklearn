{
 "cells": [
  {
   "cell_type": "code",
   "execution_count": 16,
   "metadata": {},
   "outputs": [
    {
     "name": "stderr",
     "output_type": "stream",
     "text": [
      "[nltk_data] Downloading package punkt to /Users/selma/nltk_data...\n",
      "[nltk_data]   Package punkt is already up-to-date!\n"
     ]
    }
   ],
   "source": [
    "\n",
    "import pandas as pd\n",
    "import re\n",
    "import numpy as np\n",
    "from sklearn.feature_extraction.text import CountVectorizer\n",
    "from sklearn.decomposition import LatentDirichletAllocation\n",
    "import string\n",
    "import matplotlib.pyplot as plt\n",
    "%matplotlib inline\n",
    "ps = nltk.PorterStemmer()\n",
    "from nltk.tokenize import sent_tokenize, word_tokenize\n",
    "from pprint import pprint\n",
    "\n",
    "from string import punctuation\n",
    "\n",
    "nltk.download('punkt')\n",
    "\n",
    "\n",
    "# Gensim\n",
    "import gensim\n",
    "import gensim.corpora as corpora\n",
    "from gensim.utils import simple_preprocess\n",
    "from gensim.models import CoherenceModel\n",
    "\n",
    "# spacy for lemmatization\n",
    "import spacy\n",
    "\n",
    "# Plotting tools\n",
    "import pyLDAvis\n",
    "import pyLDAvis.gensim  # don't skip this\n",
    "import matplotlib.pyplot as plt\n",
    "%matplotlib inline\n",
    "  "
   ]
  },
  {
   "cell_type": "code",
   "execution_count": 3,
   "metadata": {},
   "outputs": [],
   "source": [
    "df=pd.read_csv('./npr.csv')"
   ]
  },
  {
   "cell_type": "code",
   "execution_count": 4,
   "metadata": {},
   "outputs": [
    {
     "data": {
      "text/html": [
       "<div>\n",
       "<style scoped>\n",
       "    .dataframe tbody tr th:only-of-type {\n",
       "        vertical-align: middle;\n",
       "    }\n",
       "\n",
       "    .dataframe tbody tr th {\n",
       "        vertical-align: top;\n",
       "    }\n",
       "\n",
       "    .dataframe thead th {\n",
       "        text-align: right;\n",
       "    }\n",
       "</style>\n",
       "<table border=\"1\" class=\"dataframe\">\n",
       "  <thead>\n",
       "    <tr style=\"text-align: right;\">\n",
       "      <th></th>\n",
       "      <th>Article</th>\n",
       "    </tr>\n",
       "  </thead>\n",
       "  <tbody>\n",
       "    <tr>\n",
       "      <th>0</th>\n",
       "      <td>In the Washington of 2016, even when the polic...</td>\n",
       "    </tr>\n",
       "    <tr>\n",
       "      <th>1</th>\n",
       "      <td>Donald Trump has used Twitter  —   his prefe...</td>\n",
       "    </tr>\n",
       "    <tr>\n",
       "      <th>2</th>\n",
       "      <td>Donald Trump is unabashedly praising Russian...</td>\n",
       "    </tr>\n",
       "    <tr>\n",
       "      <th>3</th>\n",
       "      <td>Updated at 2:50 p. m. ET, Russian President Vl...</td>\n",
       "    </tr>\n",
       "    <tr>\n",
       "      <th>4</th>\n",
       "      <td>From photography, illustration and video, to d...</td>\n",
       "    </tr>\n",
       "  </tbody>\n",
       "</table>\n",
       "</div>"
      ],
      "text/plain": [
       "                                             Article\n",
       "0  In the Washington of 2016, even when the polic...\n",
       "1    Donald Trump has used Twitter  —   his prefe...\n",
       "2    Donald Trump is unabashedly praising Russian...\n",
       "3  Updated at 2:50 p. m. ET, Russian President Vl...\n",
       "4  From photography, illustration and video, to d..."
      ]
     },
     "execution_count": 4,
     "metadata": {},
     "output_type": "execute_result"
    }
   ],
   "source": [
    "df.head()"
   ]
  },
  {
   "cell_type": "code",
   "execution_count": 5,
   "metadata": {},
   "outputs": [
    {
     "data": {
      "text/plain": [
       "(11992, 1)"
      ]
     },
     "execution_count": 5,
     "metadata": {},
     "output_type": "execute_result"
    }
   ],
   "source": [
    "df.shape"
   ]
  },
  {
   "cell_type": "markdown",
   "metadata": {},
   "source": [
    "# Count Vectorizer"
   ]
  },
  {
   "cell_type": "code",
   "execution_count": 12,
   "metadata": {},
   "outputs": [],
   "source": [
    "cv=CountVectorizer(max_df=0.95,min_df=2, stop_words='english')"
   ]
  },
  {
   "cell_type": "code",
   "execution_count": 13,
   "metadata": {},
   "outputs": [],
   "source": [
    "dtm=cv.fit_transform(df.Article)"
   ]
  },
  {
   "cell_type": "code",
   "execution_count": 14,
   "metadata": {},
   "outputs": [
    {
     "data": {
      "text/plain": [
       "<11992x54777 sparse matrix of type '<class 'numpy.int64'>'\n",
       "\twith 3033388 stored elements in Compressed Sparse Row format>"
      ]
     },
     "execution_count": 14,
     "metadata": {},
     "output_type": "execute_result"
    }
   ],
   "source": [
    "dtm"
   ]
  },
  {
   "cell_type": "markdown",
   "metadata": {},
   "source": [
    "# LDA using sklearn"
   ]
  },
  {
   "cell_type": "code",
   "execution_count": 17,
   "metadata": {},
   "outputs": [],
   "source": [
    "LDA=LatentDirichletAllocation(n_components=5, random_state=0)"
   ]
  },
  {
   "cell_type": "code",
   "execution_count": 18,
   "metadata": {},
   "outputs": [
    {
     "data": {
      "text/plain": [
       "54777"
      ]
     },
     "execution_count": 18,
     "metadata": {},
     "output_type": "execute_result"
    }
   ],
   "source": [
    "len(cv.get_feature_names())"
   ]
  },
  {
   "cell_type": "code",
   "execution_count": 22,
   "metadata": {},
   "outputs": [
    {
     "data": {
      "text/plain": [
       "'receiving'"
      ]
     },
     "execution_count": 22,
     "metadata": {},
     "output_type": "execute_result"
    }
   ],
   "source": [
    "cv.get_feature_names()[40000]"
   ]
  },
  {
   "cell_type": "code",
   "execution_count": 23,
   "metadata": {},
   "outputs": [
    {
     "data": {
      "text/plain": [
       "LatentDirichletAllocation(batch_size=128, doc_topic_prior=None,\n",
       "                          evaluate_every=-1, learning_decay=0.7,\n",
       "                          learning_method='batch', learning_offset=10.0,\n",
       "                          max_doc_update_iter=100, max_iter=10,\n",
       "                          mean_change_tol=0.001, n_components=5, n_jobs=None,\n",
       "                          perp_tol=0.1, random_state=0, topic_word_prior=None,\n",
       "                          total_samples=1000000.0, verbose=0)"
      ]
     },
     "execution_count": 23,
     "metadata": {},
     "output_type": "execute_result"
    }
   ],
   "source": [
    "LDA.fit(dtm)"
   ]
  },
  {
   "cell_type": "code",
   "execution_count": 24,
   "metadata": {},
   "outputs": [
    {
     "data": {
      "text/plain": [
       "5"
      ]
     },
     "execution_count": 24,
     "metadata": {},
     "output_type": "execute_result"
    }
   ],
   "source": [
    "len(LDA.components_)"
   ]
  },
  {
   "cell_type": "code",
   "execution_count": 27,
   "metadata": {},
   "outputs": [
    {
     "data": {
      "text/plain": [
       "array([[2.68413523e+00, 7.96819990e+02, 2.00000843e-01, ...,\n",
       "        2.00529488e-01, 2.23355814e-01, 2.00000188e-01],\n",
       "       [1.10500977e+01, 4.88354017e+02, 2.00000374e-01, ...,\n",
       "        2.00007505e-01, 2.00000191e-01, 2.00166933e-01],\n",
       "       [4.06934502e+00, 2.53637019e+03, 2.00195124e-01, ...,\n",
       "        2.01473200e-01, 2.00000225e-01, 2.00000095e-01],\n",
       "       [4.87628755e+01, 2.47978044e+02, 3.19980316e+00, ...,\n",
       "        6.19703855e+00, 2.17664350e+00, 2.19894488e+00],\n",
       "       [2.84335465e+01, 1.39247776e+03, 2.00000500e-01, ...,\n",
       "        2.00951260e-01, 2.00000269e-01, 2.00887902e-01]])"
      ]
     },
     "execution_count": 27,
     "metadata": {},
     "output_type": "execute_result"
    }
   ],
   "source": [
    "LDA.components_\n"
   ]
  },
  {
   "cell_type": "code",
   "execution_count": 28,
   "metadata": {},
   "outputs": [
    {
     "data": {
      "text/plain": [
       "54777"
      ]
     },
     "execution_count": 28,
     "metadata": {},
     "output_type": "execute_result"
    }
   ],
   "source": [
    "len(LDA.components_[0])"
   ]
  },
  {
   "cell_type": "code",
   "execution_count": 29,
   "metadata": {},
   "outputs": [],
   "source": [
    "Topic_0=LDA.components_[0]"
   ]
  },
  {
   "cell_type": "code",
   "execution_count": 30,
   "metadata": {},
   "outputs": [
    {
     "data": {
      "text/plain": [
       "array([ 2475, 15888, 10658, ..., 33390, 53152, 42993])"
      ]
     },
     "execution_count": 30,
     "metadata": {},
     "output_type": "execute_result"
    }
   ],
   "source": [
    "Topic_0.argsort()"
   ]
  },
  {
   "cell_type": "code",
   "execution_count": 31,
   "metadata": {},
   "outputs": [
    {
     "data": {
      "text/plain": [
       "0.20000003541969882"
      ]
     },
     "execution_count": 31,
     "metadata": {},
     "output_type": "execute_result"
    }
   ],
   "source": [
    "Topic_0[15888]"
   ]
  },
  {
   "cell_type": "code",
   "execution_count": 32,
   "metadata": {},
   "outputs": [
    {
     "data": {
      "text/plain": [
       "array([42993, 43238, 51917, ..., 26617, 40288, 21349])"
      ]
     },
     "execution_count": 32,
     "metadata": {},
     "output_type": "execute_result"
    }
   ],
   "source": [
    "Topic_0.argsort()[::-10]"
   ]
  },
  {
   "cell_type": "code",
   "execution_count": 34,
   "metadata": {},
   "outputs": [],
   "source": [
    "Topic_0_top10=Topic_0.argsort()[-10:]"
   ]
  },
  {
   "cell_type": "code",
   "execution_count": 35,
   "metadata": {},
   "outputs": [
    {
     "name": "stdout",
     "output_type": "stream",
     "text": [
      "time\n",
      "team\n",
      "people\n",
      "just\n",
      "world\n",
      "like\n",
      "china\n",
      "new\n",
      "water\n",
      "says\n"
     ]
    }
   ],
   "source": [
    "for i in Topic_0_top10:\n",
    "    print (cv.get_feature_names()[i])"
   ]
  },
  {
   "cell_type": "code",
   "execution_count": 37,
   "metadata": {},
   "outputs": [
    {
     "name": "stdout",
     "output_type": "stream",
     "text": [
      "Top 20 words for topic0\n",
      "year\n",
      "chinese\n",
      "way\n",
      "human\n",
      "university\n",
      "said\n",
      "science\n",
      "north\n",
      "years\n",
      "scientists\n",
      "time\n",
      "team\n",
      "people\n",
      "just\n",
      "world\n",
      "like\n",
      "china\n",
      "new\n",
      "water\n",
      "says\n",
      "********************************\n",
      "Top 20 words for topic1\n",
      "vote\n",
      "donald\n",
      "party\n",
      "political\n",
      "court\n",
      "just\n",
      "states\n",
      "election\n",
      "republican\n",
      "white\n",
      "people\n",
      "new\n",
      "obama\n",
      "house\n",
      "state\n",
      "campaign\n",
      "clinton\n",
      "president\n",
      "said\n",
      "trump\n",
      "********************************\n",
      "Top 20 words for topic2\n",
      "patients\n",
      "women\n",
      "work\n",
      "help\n",
      "children\n",
      "000\n",
      "don\n",
      "study\n",
      "school\n",
      "just\n",
      "years\n",
      "year\n",
      "like\n",
      "said\n",
      "new\n",
      "care\n",
      "percent\n",
      "health\n",
      "people\n",
      "says\n",
      "********************************\n",
      "Top 20 words for topic3\n",
      "work\n",
      "going\n",
      "world\n",
      "things\n",
      "ve\n",
      "make\n",
      "music\n",
      "don\n",
      "life\n",
      "years\n",
      "way\n",
      "really\n",
      "know\n",
      "think\n",
      "new\n",
      "time\n",
      "people\n",
      "just\n",
      "says\n",
      "like\n",
      "********************************\n",
      "Top 20 words for topic4\n",
      "attack\n",
      "just\n",
      "military\n",
      "killed\n",
      "state\n",
      "say\n",
      "npr\n",
      "time\n",
      "according\n",
      "years\n",
      "war\n",
      "country\n",
      "government\n",
      "reports\n",
      "told\n",
      "city\n",
      "police\n",
      "people\n",
      "says\n",
      "said\n",
      "********************************\n"
     ]
    }
   ],
   "source": [
    "for index, topic in enumerate( LDA.components_):\n",
    "    print ('Top 20 words for topic{}'.format(index))\n",
    "    for i in topic.argsort()[-20:]:\n",
    "        print (cv.get_feature_names()[i])\n",
    "    print('********************************')    \n",
    "        "
   ]
  },
  {
   "cell_type": "code",
   "execution_count": 38,
   "metadata": {},
   "outputs": [],
   "source": [
    "topic_results=LDA.transform(dtm)"
   ]
  },
  {
   "cell_type": "code",
   "execution_count": 39,
   "metadata": {},
   "outputs": [
    {
     "data": {
      "text/plain": [
       "(11992, 5)"
      ]
     },
     "execution_count": 39,
     "metadata": {},
     "output_type": "execute_result"
    }
   ],
   "source": [
    "topic_results.shape"
   ]
  },
  {
   "cell_type": "code",
   "execution_count": 41,
   "metadata": {},
   "outputs": [
    {
     "data": {
      "text/plain": [
       "array([0.  , 0.96, 0.  , 0.  , 0.04])"
      ]
     },
     "execution_count": 41,
     "metadata": {},
     "output_type": "execute_result"
    }
   ],
   "source": [
    "topic_results[0].round(2)"
   ]
  },
  {
   "cell_type": "code",
   "execution_count": 43,
   "metadata": {},
   "outputs": [
    {
     "data": {
      "text/plain": [
       "'In the Washington of 2016, even when the policy can be bipartisan, the politics cannot. And in that sense, this year shows little sign of ending on Dec. 31. When President Obama moved to sanction Russia over its alleged interference in the U. S. election just concluded, some Republicans who had long called for similar or more severe measures could scarcely bring themselves to approve. House Speaker Paul Ryan called the Obama measures ”appropriate” but also ”overdue” and ”a prime example of this administration’s ineffective foreign policy that has left America weaker in the eyes of the world.” Other GOP leaders sounded much the same theme. ”[We have] been urging President Obama for years to take strong action to deter Russia’s worldwide aggression, including its   operations,” wrote Rep. Devin Nunes,  . chairman of the House Intelligence Committee. ”Now with just a few weeks left in office, the president has suddenly decided that some stronger measures are indeed warranted.” Appearing on CNN, frequent Obama critic Trent Franks,  . called for ”much tougher” actions and said three times that Obama had ”finally found his tongue.” Meanwhile, at    and on Fox News, various spokesmen for   Trump said Obama’s real target was not the Russians at all but the man poised to take over the White House in less than three weeks. They spoke of Obama trying to ”tie Trump’s hands” or ”box him in,” meaning the   would be forced either to keep the sanctions or be at odds with Republicans who want to be tougher still on Moscow. Throughout 2016, Trump has repeatedly called not for sanctions but for closer ties with Russia, including cooperation in the fight against ISIS. Russia has battled ISIS in Syria on behalf of that country’s embattled dictator, Bashar Assad, bombing the besieged   city of Aleppo that fell to Assad’s forces this week. During the campaign, Trump even urged Russia to ”find” missing emails from the private server of his opponent, Hillary Clinton. He has exchanged public encomiums with Russian President Vladimir Putin on several occasions and added his doubts about the current U. S. levels of support for NATO  —   Putin’s longtime nemesis. There have also been suggestions that Trump’s extensive business dealings with various Russians are the reason he refuses to release his tax returns. All those issues have been disquieting to some Republicans for many months. Sens. John McCain,  . and Lindsay Graham,  . C. prominent senior members of the Armed Services Committee, have accepted the assessment of 17 U. S. intelligence agencies regarding the role of Russia in the hacking of various Democratic committees last year. That includes the FBI and CIA consensus that the Russian goal was not just to discredit American democracy but to defeat Clinton and elect Trump. They say the great majority of their Senate colleagues agree with them, and McCain has slated an Armed Services hearing on cyberthreats for Jan. 5. But the politicizing of the Russian actions  —   the idea that they helped Trump win  —   has also made the issue difficult for Republican leaders. It has allowed Trump supporters to push back on the intelligence agencies and say the entire issue is designed to undermine Trump’s legitimacy. Senate Majority Leader Mitch McConnell has so far resisted calls for a select committee to look into the Russian interference in the 2016 campaign. He has said it is enough for Sen. Richard Burr,  . C. to look into it as chairman of the Senate Intelligence Committee. Typically, Republican leaders and spokesmen say there is no evidence that the actual voting or tallying on Nov. 8 was compromised, and that is true. But it is also a red herring, as interference in those functions has not been alleged and is not the focus of the U. S. intelligence agencies’ concern. For his part, Trump has shown little interest in delving into what happened. He has cast doubt on the U. S. intelligence reports to date and suggested ”no one really knows what happened.” He also has suggested that computers make it very difficult to know who is using them. This week, Trump said it was time to ”get on with our lives and do more important things.” However, at week’s end he did agree to have an intelligence briefing on the subject next week. The   has not wanted the daily intelligence briefings available to him in recent weeks, preferring that they be given to the men he has chosen as his vice president (Mike Pence) and national security adviser (Mike Flynn) with Trump taking them only occasionally. The irony of this controversy arising at the eleventh hour of the Obama presidency can scarcely be overstated, and it defines the dilemma facing both the outgoing president and the incoming party in control. Obama appears to have been reluctant to retaliate against the Russian hacking before the election for fear of seeming to interfere with the election himself. The Republicans, meanwhile, have for years called for greater confrontation with the Russians, with Obama usually resisting. Obama did join with NATO in punishing the Russians with economic sanctions over the annexation of Crimea. Those sanctions may have been painful, coming as they did alongside falling prices for oil  —   the commodity that keeps the Russian economy afloat. On other occasions, despite Russian provocations through surrogates in Syria and elsewhere, Obama did not make overt moves to force Russia’s hand. That includes occasions when Russia was believed to be hacking critical computer systems in neighboring Ukraine, Estonia and Poland. But this week, following a chorus of confirmation from the U. S. intelligence community regarding the Russian role in computer hacking in the political campaign, Obama acted. He imposed a set of mostly diplomatic actions such as sanctioning some Russian officials, closing two diplomatic compounds and expelling 35 Russian diplomats. There may have been more damaging measures taken covertly, and some Russophobes in Washington held out hope for that. But the visible portion of the program scarcely amounted to major retribution. And Putin saw fit to diminish the Obama sanctions further by declining to respond. Although his government has steadfastly denied any interference in the U. S. election, Putin rejected his own foreign minister’s recommended package of    responses. (He even sent an invitation for U. S. diplomats to send their children to a holiday party in Moscow.) That allowed Putin to appear for the moment to be ”the bigger man,” even as he spurned Obama and kept up what has looked like a public bromance with Trump, who tweeted: ”Great move on delay (by V. Putin)   I always knew he was very smart!” At the moment it may seem that the overall Russia question amounts to the first crisis facing the Trump presidency. Whether forced by this campaign interference issue or not, Trump must grasp the nettle of a relationship Mitt Romney once called the greatest threat to U. S. security in the world. To be sure, Trump needs to dispel doubts about his ability to stand up to Putin, who has bullied and cajoled his way to center stage in recent world affairs. But Trump also seems determined to turn the page on past U. S. commitments, from free trade philosophy to funding of NATO and the United Nations. And if his Twitter account is any guide, Trump shows little concern about the conundrum others perceive to be facing him. Above all, Trump has shown himself determined to play by his own rules. A year ago, many were confident that would not work for him in the world of presidential politics. We are about to find out whether it works for him in the Oval Office.'"
      ]
     },
     "execution_count": 43,
     "metadata": {},
     "output_type": "execute_result"
    }
   ],
   "source": [
    "df.Article[0]"
   ]
  },
  {
   "cell_type": "code",
   "execution_count": 44,
   "metadata": {},
   "outputs": [
    {
     "data": {
      "text/plain": [
       "1"
      ]
     },
     "execution_count": 44,
     "metadata": {},
     "output_type": "execute_result"
    }
   ],
   "source": [
    "topic_results[0].argmax()"
   ]
  },
  {
   "cell_type": "code",
   "execution_count": 45,
   "metadata": {},
   "outputs": [],
   "source": [
    "df['topic']=topic_results.argmax(axis=1)"
   ]
  },
  {
   "cell_type": "code",
   "execution_count": 47,
   "metadata": {},
   "outputs": [
    {
     "data": {
      "text/html": [
       "<div>\n",
       "<style scoped>\n",
       "    .dataframe tbody tr th:only-of-type {\n",
       "        vertical-align: middle;\n",
       "    }\n",
       "\n",
       "    .dataframe tbody tr th {\n",
       "        vertical-align: top;\n",
       "    }\n",
       "\n",
       "    .dataframe thead th {\n",
       "        text-align: right;\n",
       "    }\n",
       "</style>\n",
       "<table border=\"1\" class=\"dataframe\">\n",
       "  <thead>\n",
       "    <tr style=\"text-align: right;\">\n",
       "      <th></th>\n",
       "      <th>Article</th>\n",
       "      <th>topic</th>\n",
       "    </tr>\n",
       "  </thead>\n",
       "  <tbody>\n",
       "    <tr>\n",
       "      <th>0</th>\n",
       "      <td>In the Washington of 2016, even when the polic...</td>\n",
       "      <td>1</td>\n",
       "    </tr>\n",
       "    <tr>\n",
       "      <th>1</th>\n",
       "      <td>Donald Trump has used Twitter  —   his prefe...</td>\n",
       "      <td>1</td>\n",
       "    </tr>\n",
       "    <tr>\n",
       "      <th>2</th>\n",
       "      <td>Donald Trump is unabashedly praising Russian...</td>\n",
       "      <td>1</td>\n",
       "    </tr>\n",
       "    <tr>\n",
       "      <th>3</th>\n",
       "      <td>Updated at 2:50 p. m. ET, Russian President Vl...</td>\n",
       "      <td>1</td>\n",
       "    </tr>\n",
       "    <tr>\n",
       "      <th>4</th>\n",
       "      <td>From photography, illustration and video, to d...</td>\n",
       "      <td>0</td>\n",
       "    </tr>\n",
       "    <tr>\n",
       "      <th>5</th>\n",
       "      <td>I did not want to join yoga class. I hated tho...</td>\n",
       "      <td>3</td>\n",
       "    </tr>\n",
       "    <tr>\n",
       "      <th>6</th>\n",
       "      <td>With a   who has publicly supported the debunk...</td>\n",
       "      <td>2</td>\n",
       "    </tr>\n",
       "    <tr>\n",
       "      <th>7</th>\n",
       "      <td>I was standing by the airport exit, debating w...</td>\n",
       "      <td>3</td>\n",
       "    </tr>\n",
       "    <tr>\n",
       "      <th>8</th>\n",
       "      <td>If movies were trying to be more realistic, pe...</td>\n",
       "      <td>0</td>\n",
       "    </tr>\n",
       "    <tr>\n",
       "      <th>9</th>\n",
       "      <td>Eighteen years ago, on New Year’s Eve, David F...</td>\n",
       "      <td>3</td>\n",
       "    </tr>\n",
       "  </tbody>\n",
       "</table>\n",
       "</div>"
      ],
      "text/plain": [
       "                                             Article  topic\n",
       "0  In the Washington of 2016, even when the polic...      1\n",
       "1    Donald Trump has used Twitter  —   his prefe...      1\n",
       "2    Donald Trump is unabashedly praising Russian...      1\n",
       "3  Updated at 2:50 p. m. ET, Russian President Vl...      1\n",
       "4  From photography, illustration and video, to d...      0\n",
       "5  I did not want to join yoga class. I hated tho...      3\n",
       "6  With a   who has publicly supported the debunk...      2\n",
       "7  I was standing by the airport exit, debating w...      3\n",
       "8  If movies were trying to be more realistic, pe...      0\n",
       "9  Eighteen years ago, on New Year’s Eve, David F...      3"
      ]
     },
     "execution_count": 47,
     "metadata": {},
     "output_type": "execute_result"
    }
   ],
   "source": [
    "df.head(10)"
   ]
  },
  {
   "cell_type": "code",
   "execution_count": 48,
   "metadata": {},
   "outputs": [
    {
     "data": {
      "text/plain": [
       "3    3526\n",
       "1    2681\n",
       "2    2211\n",
       "4    2188\n",
       "0    1386\n",
       "Name: topic, dtype: int64"
      ]
     },
     "execution_count": 48,
     "metadata": {},
     "output_type": "execute_result"
    }
   ],
   "source": [
    "df.topic.value_counts()"
   ]
  },
  {
   "cell_type": "code",
   "execution_count": 51,
   "metadata": {},
   "outputs": [
    {
     "name": "stderr",
     "output_type": "stream",
     "text": [
      "//anaconda3/lib/python3.7/site-packages/pyLDAvis/_prepare.py:257: FutureWarning: Sorting because non-concatenation axis is not aligned. A future version\n",
      "of pandas will change to not sort by default.\n",
      "\n",
      "To accept the future behavior, pass 'sort=False'.\n",
      "\n",
      "To retain the current behavior and silence the warning, pass 'sort=True'.\n",
      "\n",
      "  return pd.concat([default_term_info] + list(topic_dfs))\n"
     ]
    },
    {
     "data": {
      "text/html": [
       "\n",
       "<link rel=\"stylesheet\" type=\"text/css\" href=\"https://cdn.rawgit.com/bmabey/pyLDAvis/files/ldavis.v1.0.0.css\">\n",
       "\n",
       "\n",
       "<div id=\"ldavis_el67051123277353608166961288\"></div>\n",
       "<script type=\"text/javascript\">\n",
       "\n",
       "var ldavis_el67051123277353608166961288_data = {\"mdsDat\": {\"x\": [10.844088554382324, 41.403446197509766, 26.54674530029297, -31.500032424926758, -12.336254119873047], \"y\": [-55.71668243408203, -86.3046875, -128.6328582763672, -70.52635192871094, -109.42974853515625], \"topics\": [1, 2, 3, 4, 5], \"cluster\": [1, 1, 1, 1, 1], \"Freq\": [28.766825852240093, 22.900111763480545, 20.42997451514743, 16.801175483275895, 11.101912385856046]}, \"tinfo\": {\"Category\": [\"Default\", \"Default\", \"Default\", \"Default\", \"Default\", \"Default\", \"Default\", \"Default\", \"Default\", \"Default\", \"Default\", \"Default\", \"Default\", \"Default\", \"Default\", \"Default\", \"Default\", \"Default\", \"Default\", \"Default\", \"Default\", \"Default\", \"Default\", \"Default\", \"Default\", \"Default\", \"Default\", \"Default\", \"Default\", \"Default\", \"Topic1\", \"Topic1\", \"Topic1\", \"Topic1\", \"Topic1\", \"Topic1\", \"Topic1\", \"Topic1\", \"Topic1\", \"Topic1\", \"Topic1\", \"Topic1\", \"Topic1\", \"Topic1\", \"Topic1\", \"Topic1\", \"Topic1\", \"Topic1\", \"Topic1\", \"Topic1\", \"Topic1\", \"Topic1\", \"Topic1\", \"Topic1\", \"Topic1\", \"Topic1\", \"Topic1\", \"Topic1\", \"Topic1\", \"Topic1\", \"Topic1\", \"Topic1\", \"Topic1\", \"Topic1\", \"Topic1\", \"Topic1\", \"Topic1\", \"Topic1\", \"Topic1\", \"Topic1\", \"Topic1\", \"Topic1\", \"Topic1\", \"Topic1\", \"Topic1\", \"Topic1\", \"Topic1\", \"Topic1\", \"Topic1\", \"Topic1\", \"Topic1\", \"Topic1\", \"Topic1\", \"Topic1\", \"Topic1\", \"Topic1\", \"Topic1\", \"Topic1\", \"Topic1\", \"Topic1\", \"Topic1\", \"Topic1\", \"Topic1\", \"Topic1\", \"Topic1\", \"Topic1\", \"Topic1\", \"Topic1\", \"Topic1\", \"Topic1\", \"Topic1\", \"Topic1\", \"Topic1\", \"Topic1\", \"Topic1\", \"Topic1\", \"Topic1\", \"Topic1\", \"Topic1\", \"Topic1\", \"Topic1\", \"Topic1\", \"Topic1\", \"Topic1\", \"Topic2\", \"Topic2\", \"Topic2\", \"Topic2\", \"Topic2\", \"Topic2\", \"Topic2\", \"Topic2\", \"Topic2\", \"Topic2\", \"Topic2\", \"Topic2\", \"Topic2\", \"Topic2\", \"Topic2\", \"Topic2\", \"Topic2\", \"Topic2\", \"Topic2\", \"Topic2\", \"Topic2\", \"Topic2\", \"Topic2\", \"Topic2\", \"Topic2\", \"Topic2\", \"Topic2\", \"Topic2\", \"Topic2\", \"Topic2\", \"Topic2\", \"Topic2\", \"Topic2\", \"Topic2\", \"Topic2\", \"Topic2\", \"Topic2\", \"Topic2\", \"Topic2\", \"Topic2\", \"Topic2\", \"Topic2\", \"Topic2\", \"Topic2\", \"Topic2\", \"Topic2\", \"Topic2\", \"Topic2\", \"Topic2\", \"Topic2\", \"Topic2\", \"Topic2\", \"Topic2\", \"Topic2\", \"Topic2\", \"Topic2\", \"Topic2\", \"Topic2\", \"Topic2\", \"Topic2\", \"Topic2\", \"Topic2\", \"Topic2\", \"Topic2\", \"Topic2\", \"Topic2\", \"Topic2\", \"Topic2\", \"Topic2\", \"Topic2\", \"Topic2\", \"Topic2\", \"Topic2\", \"Topic2\", \"Topic3\", \"Topic3\", \"Topic3\", \"Topic3\", \"Topic3\", \"Topic3\", \"Topic3\", \"Topic3\", \"Topic3\", \"Topic3\", \"Topic3\", \"Topic3\", \"Topic3\", \"Topic3\", \"Topic3\", \"Topic3\", \"Topic3\", \"Topic3\", \"Topic3\", \"Topic3\", \"Topic3\", \"Topic3\", \"Topic3\", \"Topic3\", \"Topic3\", \"Topic3\", \"Topic3\", \"Topic3\", \"Topic3\", \"Topic3\", \"Topic3\", \"Topic3\", \"Topic3\", \"Topic3\", \"Topic3\", \"Topic3\", \"Topic3\", \"Topic3\", \"Topic3\", \"Topic3\", \"Topic3\", \"Topic3\", \"Topic3\", \"Topic3\", \"Topic3\", \"Topic3\", \"Topic3\", \"Topic3\", \"Topic3\", \"Topic3\", \"Topic3\", \"Topic3\", \"Topic3\", \"Topic3\", \"Topic3\", \"Topic3\", \"Topic3\", \"Topic3\", \"Topic3\", \"Topic3\", \"Topic3\", \"Topic3\", \"Topic3\", \"Topic3\", \"Topic3\", \"Topic3\", \"Topic3\", \"Topic3\", \"Topic3\", \"Topic3\", \"Topic3\", \"Topic3\", \"Topic3\", \"Topic3\", \"Topic3\", \"Topic3\", \"Topic3\", \"Topic3\", \"Topic3\", \"Topic3\", \"Topic3\", \"Topic3\", \"Topic3\", \"Topic3\", \"Topic3\", \"Topic3\", \"Topic3\", \"Topic3\", \"Topic3\", \"Topic3\", \"Topic3\", \"Topic3\", \"Topic3\", \"Topic3\", \"Topic3\", \"Topic3\", \"Topic3\", \"Topic3\", \"Topic4\", \"Topic4\", \"Topic4\", \"Topic4\", \"Topic4\", \"Topic4\", \"Topic4\", \"Topic4\", \"Topic4\", \"Topic4\", \"Topic4\", \"Topic4\", \"Topic4\", \"Topic4\", \"Topic4\", \"Topic4\", \"Topic4\", \"Topic4\", \"Topic4\", \"Topic4\", \"Topic4\", \"Topic4\", \"Topic4\", \"Topic4\", \"Topic4\", \"Topic4\", \"Topic4\", \"Topic4\", \"Topic4\", \"Topic4\", \"Topic4\", \"Topic4\", \"Topic4\", \"Topic4\", \"Topic4\", \"Topic4\", \"Topic4\", \"Topic4\", \"Topic4\", \"Topic4\", \"Topic4\", \"Topic4\", \"Topic4\", \"Topic4\", \"Topic4\", \"Topic4\", \"Topic4\", \"Topic4\", \"Topic4\", \"Topic4\", \"Topic4\", \"Topic4\", \"Topic4\", \"Topic4\", \"Topic4\", \"Topic4\", \"Topic4\", \"Topic4\", \"Topic4\", \"Topic4\", \"Topic4\", \"Topic4\", \"Topic4\", \"Topic4\", \"Topic4\", \"Topic4\", \"Topic4\", \"Topic4\", \"Topic4\", \"Topic4\", \"Topic4\", \"Topic4\", \"Topic4\", \"Topic4\", \"Topic4\", \"Topic4\", \"Topic4\", \"Topic4\", \"Topic4\", \"Topic4\", \"Topic4\", \"Topic4\", \"Topic4\", \"Topic4\", \"Topic4\", \"Topic4\", \"Topic4\", \"Topic4\", \"Topic4\", \"Topic4\", \"Topic4\", \"Topic4\", \"Topic4\", \"Topic4\", \"Topic5\", \"Topic5\", \"Topic5\", \"Topic5\", \"Topic5\", \"Topic5\", \"Topic5\", \"Topic5\", \"Topic5\", \"Topic5\", \"Topic5\", \"Topic5\", \"Topic5\", \"Topic5\", \"Topic5\", \"Topic5\", \"Topic5\", \"Topic5\", \"Topic5\", \"Topic5\", \"Topic5\", \"Topic5\", \"Topic5\", \"Topic5\", \"Topic5\", \"Topic5\", \"Topic5\", \"Topic5\", \"Topic5\", \"Topic5\", \"Topic5\", \"Topic5\", \"Topic5\", \"Topic5\", \"Topic5\", \"Topic5\", \"Topic5\", \"Topic5\", \"Topic5\", \"Topic5\", \"Topic5\", \"Topic5\", \"Topic5\", \"Topic5\", \"Topic5\", \"Topic5\", \"Topic5\", \"Topic5\", \"Topic5\", \"Topic5\", \"Topic5\", \"Topic5\", \"Topic5\", \"Topic5\", \"Topic5\", \"Topic5\", \"Topic5\", \"Topic5\", \"Topic5\", \"Topic5\", \"Topic5\", \"Topic5\", \"Topic5\", \"Topic5\", \"Topic5\", \"Topic5\", \"Topic5\", \"Topic5\", \"Topic5\", \"Topic5\", \"Topic5\", \"Topic5\", \"Topic5\", \"Topic5\", \"Topic5\", \"Topic5\", \"Topic5\", \"Topic5\", \"Topic5\", \"Topic5\", \"Topic5\", \"Topic5\", \"Topic5\", \"Topic5\", \"Topic5\", \"Topic5\", \"Topic5\", \"Topic5\", \"Topic5\"], \"Freq\": [22587.0, 45469.0, 8464.0, 7278.0, 11425.0, 28489.0, 4959.0, 5557.0, 4970.0, 7929.0, 3591.0, 5529.0, 3667.0, 3497.0, 2401.0, 3609.0, 2967.0, 2949.0, 2772.0, 2687.0, 2320.0, 2555.0, 2620.0, 2341.0, 6734.0, 2300.0, 3604.0, 9955.0, 3506.0, 2541.0, 1652.2436584702155, 1281.1813766556559, 530.8232364908542, 511.0954511397794, 1790.985704337983, 391.7544438506986, 373.9939930711023, 446.7811912253428, 353.2902582828455, 314.8247235844471, 302.0022607040636, 854.7312969850153, 284.2501921182212, 255.6457604226334, 609.572777714353, 245.7747094203665, 233.94874694736623, 229.01341678979227, 214.22155837636774, 216.178181785182, 212.2473794815731, 201.39914943498982, 485.3075814739558, 3594.552127668735, 180.68086200240225, 180.67515175819574, 177.7253255927722, 176.73433616007466, 175.7443080863278, 170.82284703795725, 1851.7924432993416, 1238.6099480304047, 747.1803674629107, 412.08969063779824, 503.1973058652065, 1278.0553082938006, 731.7044143566036, 456.8914408386654, 261.5224666292658, 765.3562333730156, 463.90624842205443, 483.6285448923171, 2902.268228496564, 1286.3320045730609, 651.7086922538986, 2570.950295669006, 659.2044347291765, 730.251494138327, 1070.8931439417813, 893.5772839373047, 4330.115625261402, 12229.41619613115, 1049.7811001762996, 5083.685026969025, 1262.4767867922487, 2389.1577922492843, 2941.6003346795596, 9047.97037606475, 2974.3419910523066, 5400.043040743031, 5467.835750539038, 2561.688053706155, 5066.2088141447575, 3401.771118680701, 6029.589326167891, 2730.1853242794077, 2635.383960488839, 1331.0944812127696, 3475.6978522137742, 7824.485861275204, 10355.773616403918, 4158.516946169471, 5614.883029271901, 4434.423351874055, 3390.3955502043127, 2663.3543769843805, 2942.186488222709, 3480.251951689064, 3123.306582806254, 3323.0397743015046, 2713.4095025401766, 2780.004182267138, 2734.417688419469, 2668.8286216016354, 7277.357669985099, 22583.86376092636, 2299.6486332145478, 2341.012206624235, 1352.6418009351285, 1292.46727623879, 1064.5865529393277, 2171.9544199561474, 750.894179538571, 732.1527213550162, 716.3683367893376, 2768.9379237308476, 537.8175399498328, 419.443581171634, 360.25531083420384, 346.4453676794341, 345.4590114709523, 343.4855009549595, 305.99962588733007, 3582.3645460763696, 420.12265481277706, 314.8415392281465, 297.12267271059653, 275.4198208136665, 265.55579687531855, 428.8108146571575, 260.62365580806016, 276.3534438432885, 235.96127858080914, 378.44941740610517, 2532.7178389309124, 2918.1802119883105, 3618.7929875753857, 2930.0700764212784, 2652.9608867571005, 1049.981132134014, 2569.1980986467397, 687.1056937656184, 674.9258636620361, 1694.9961340549105, 1381.626507845234, 925.594854305191, 2452.9794276400953, 633.4253180156838, 631.9361815062717, 5212.831281416753, 4671.962666172197, 1437.3719869667698, 1692.7327179871404, 1313.2357724296394, 9622.754822296476, 1306.6892554723581, 2997.480694665485, 1239.4502935968637, 4679.997615035366, 3037.3837157254734, 1857.5685486985594, 3048.78299692608, 13265.335384089634, 2562.296424159301, 3930.9329683632013, 5035.322048573323, 3174.2976242671602, 1865.108564532623, 4361.302204489694, 4153.632063960032, 2463.6473945245157, 2351.4714130361003, 3103.571121785927, 2539.496175257746, 2572.784359448274, 2649.942547195493, 2577.7788159009488, 2470.351945216019, 1055.0404535413447, 502.48526139860695, 445.13790774849906, 406.57615785987923, 378.8887892155879, 334.3956848532017, 241.44796437468202, 2312.5042586679115, 226.6192246051425, 315.2315956708592, 181.13593861284608, 142.5758534303843, 141.58813550838937, 139.60957591106896, 121.80863427156748, 284.79935697236783, 115.88177585398408, 360.38028688398333, 112.9077378945915, 106.98191886580823, 104.9983254634992, 456.2053440074247, 101.05009548497299, 95.11579823344054, 91.16289088369325, 89.18444824939864, 88.19493138495758, 187.1210586039551, 82.26424509586681, 77.31014922600029, 2051.096812075162, 355.4099733186211, 532.3637729369689, 8065.789793181613, 370.1645766062781, 204.54658891081388, 466.3045833729921, 371.7646249345683, 422.6392281600378, 310.8488645305851, 727.3167611293876, 354.2579843595177, 1437.9505911047113, 973.1111202568774, 315.16791907609735, 870.670023066626, 906.9603020245227, 2272.922205170562, 1945.110349818466, 461.7998297963955, 1862.1857302566827, 966.4130096582545, 4443.567123629483, 1239.947346301281, 1397.752300491604, 1180.5418147790922, 963.4922834689158, 2776.2170868027997, 1101.5056225048443, 1137.4353001945803, 739.366743718152, 1015.5725857535957, 870.2201709092337, 5245.516646889056, 1865.3433949466416, 1930.0312176940422, 1118.4066219206136, 1551.8154225355593, 1288.5561586283122, 18109.59734637186, 2192.9408258278168, 1767.4039417578772, 2299.824490695847, 2066.996675207114, 8742.40470262236, 2953.657505373168, 1483.7006662988988, 2158.565743279703, 2458.499769854272, 2507.859311812223, 2150.8033207595627, 2400.382992955284, 3328.7132140434933, 1669.9924467592032, 2053.887666108377, 3616.9903093424064, 3083.2768054539592, 2065.6208542981667, 2752.5291443037795, 3333.961249574212, 2391.614680819656, 3398.6439534995034, 2995.8936813050764, 2351.898186128735, 2150.0198805819327, 2303.7292090010305, 2309.588712404776, 2206.9846091497484, 374.619276591711, 402.99947561227924, 312.5446836263446, 349.8815338492831, 304.6607405378485, 224.84801197952902, 216.96706943421233, 205.14231549927186, 380.79436995945736, 189.37795211450162, 184.44413675270565, 167.70052139658836, 153.89143717693963, 143.06522354990767, 315.31692526088864, 131.20755323605215, 122.37419241819308, 499.2749612665488, 120.4055557514279, 112.52202259192666, 112.51773934448218, 111.53678420101416, 103.63508254531546, 98.7285418875533, 277.5025642841123, 93.80108783909301, 98.68439890305567, 150.4427467632763, 89.86018097494791, 89.8581118425513, 4872.313300904736, 1023.8364691923861, 361.2189757652928, 288.63722991092135, 254.31575321506978, 423.5656372470347, 242.9643017664247, 146.48866379790994, 1383.2594895745613, 970.6561166458672, 564.9826646071747, 636.342727958879, 1329.441654462416, 586.1611473877356, 666.6773739493541, 1868.3223486164482, 1343.815587342009, 634.485794783806, 541.144123935606, 1056.4737078291625, 1083.3703261676387, 949.060174454343, 756.5332164292339, 634.6688706220538, 1365.2379144042752, 584.8842139200121, 1832.2830495879953, 942.2540997032193, 1769.8689305881749, 1087.610054770771, 834.7924634883155, 2242.484545548633, 1023.500422838919, 2484.3790251010687, 967.6859108159604, 2913.8942776135927, 829.302982908541, 8400.607171007832, 781.6430396473236, 982.4813398319346, 2660.582707955491, 7701.500450172039, 2405.630787703468, 5711.933132111582, 1739.942795950536, 2121.666006796388, 2258.650580966264, 1354.1297180375964, 1288.3545697670675, 1924.3381546607486, 2237.371360180196, 1558.7943338162206, 1903.2132925611131, 1881.5899439035336, 1969.7570475239277, 1407.380450613647, 1333.6246368429997, 1582.2425456004196, 1503.505345099657, 1818.8854089152048, 1613.3930809119183, 1412.2596336890056, 1380.0795813975674, 1372.0446918183034, 524.3965063716385, 171.94438058605652, 126.01755561873259, 115.03816137220895, 465.0604507235852, 112.04108965522174, 105.05016878470236, 92.068780812832, 93.05644678947549, 149.43377138755355, 89.05031044451462, 86.07660081231813, 82.0853179842681, 72.09647510755043, 397.3379370359152, 61.11546980669868, 97.5682610215702, 67.99319191022764, 125.09086030242183, 54.12257881848862, 54.1188722769349, 61.97827320236819, 519.2831920352558, 72.77424720586215, 51.12821843047639, 51.12794413257168, 50.12674569992891, 49.12939832981361, 48.12847285966346, 47.12025959738933, 354.0820174745932, 227.20622418681828, 87.09346999284384, 93.83075026208952, 739.9996316208932, 993.5053888975234, 524.2104419921931, 279.4629128247232, 495.1427944337615, 96.66912109664179, 440.6502105006953, 205.8276886988009, 117.64630343121833, 134.46387673059075, 247.17984674111815, 2061.9591668867192, 1080.4834644566236, 306.4287859621338, 129.96357363213409, 582.5958948927864, 1355.804348535232, 627.9477078233544, 2491.5470514357576, 1005.7516547257012, 279.4211520922721, 658.9263846832118, 583.979483252723, 497.80959913606307, 587.2020338803362, 518.8580357910438, 905.9561633060437, 1272.7798753715508, 1634.3991855338497, 820.1754015059932, 970.261049353155, 1288.0172805492937, 711.5702349728205, 706.1474275565749, 7461.854475648503, 1853.6185178843125, 791.1012875650805, 1090.7971252265165, 1222.2557234236465, 2102.541945414075, 1895.0569151187747, 1682.9265844273748, 984.1360697744535, 1458.1645070547297, 1048.227154095789, 1670.0956495955488, 1335.0395408827328, 1034.8277056142895, 1086.513067598547, 835.2283841280623, 1058.498019377959, 1222.6695671203788, 987.9855515480832, 906.4467774855258, 855.1726959356782], \"Term\": [\"trump\", \"says\", \"health\", \"clinton\", \"president\", \"said\", \"police\", \"campaign\", \"obama\", \"percent\", \"election\", \"care\", \"republican\", \"water\", \"china\", \"music\", \"donald\", \"vote\", \"voters\", \"presidential\", \"patients\", \"senate\", \"republicans\", \"sanders\", \"house\", \"democrats\", \"study\", \"state\", \"party\", \"democratic\", \"album\", \"songs\", \"jazz\", \"comedy\", \"song\", \"guitar\", \"comic\", \"studio\", \"comics\", \"albums\", \"genre\", \"artists\", \"bowie\", \"lyrics\", \"musical\", \"musician\", \"composer\", \"poetry\", \"piano\", \"recipes\", \"sings\", \"shakespeare\", \"musicians\", \"music\", \"culinary\", \"planets\", \"batman\", \"bass\", \"broadway\", \"superhero\", \"film\", \"movie\", \"characters\", \"films\", \"funny\", \"band\", \"artist\", \"singing\", \"humor\", \"pop\", \"singer\", \"movies\", \"book\", \"art\", \"novel\", \"love\", \"dad\", \"prince\", \"books\", \"character\", \"life\", \"like\", \"sound\", \"really\", \"culture\", \"feel\", \"kind\", \"just\", \"story\", \"know\", \"think\", \"thing\", \"way\", \"things\", \"time\", \"little\", \"black\", \"stories\", \"ve\", \"people\", \"says\", \"don\", \"new\", \"years\", \"world\", \"got\", \"lot\", \"make\", \"work\", \"going\", \"didn\", \"want\", \"day\", \"good\", \"clinton\", \"trump\", \"democrats\", \"sanders\", \"nominee\", \"comey\", \"votes\", \"hillary\", \"delegates\", \"rubio\", \"pence\", \"voters\", \"voter\", \"kasich\", \"romney\", \"kaine\", \"gorsuch\", \"caucus\", \"mccain\", \"election\", \"tillerson\", \"scalia\", \"primaries\", \"bannon\", \"ailes\", \"electoral\", \"caucuses\", \"justices\", \"dnc\", \"conservatives\", \"senate\", \"vote\", \"republican\", \"donald\", \"presidential\", \"voting\", \"republicans\", \"senator\", \"flynn\", \"gop\", \"sen\", \"polls\", \"democratic\", \"bernie\", \"presidency\", \"campaign\", \"obama\", \"candidates\", \"candidate\", \"cruz\", \"president\", \"bush\", \"party\", \"supreme\", \"house\", \"political\", \"committee\", \"court\", \"said\", \"administration\", \"white\", \"state\", \"states\", \"russia\", \"new\", \"people\", \"national\", \"news\", \"just\", \"country\", \"going\", \"time\", \"think\", \"like\", \"medicaid\", \"kaiser\", \"fda\", \"insurers\", \"opioid\", \"medications\", \"opioids\", \"patients\", \"enrollment\", \"infections\", \"antibiotics\", \"uninsured\", \"fentanyl\", \"preventive\", \"cholesterol\", \"physicians\", \"insurer\", \"providers\", \"usda\", \"editorially\", \"fcc\", \"clinic\", \"prescribing\", \"jama\", \"mylan\", \"deductibles\", \"prescribe\", \"obesity\", \"epipen\", \"hepatitis\", \"insurance\", \"hiv\", \"symptoms\", \"health\", \"clinics\", \"microcephaly\", \"medicare\", \"infection\", \"diabetes\", \"medication\", \"consumers\", \"cdc\", \"doctors\", \"medicine\", \"prescription\", \"patient\", \"rates\", \"medical\", \"disease\", \"prevention\", \"drug\", \"costs\", \"care\", \"drugs\", \"treatment\", \"zika\", \"benefits\", \"study\", \"rate\", \"dr\", \"farmers\", \"cancer\", \"income\", \"percent\", \"education\", \"companies\", \"programs\", \"workers\", \"cost\", \"says\", \"program\", \"pay\", \"students\", \"research\", \"people\", \"school\", \"tax\", \"money\", \"children\", \"000\", \"food\", \"help\", \"year\", \"data\", \"million\", \"new\", \"years\", \"university\", \"don\", \"like\", \"work\", \"said\", \"just\", \"women\", \"need\", \"make\", \"state\", \"time\", \"afghan\", \"aleppo\", \"mosul\", \"turkish\", \"taliban\", \"militants\", \"erdogan\", \"castile\", \"iraqi\", \"mateen\", \"palestinians\", \"airstrikes\", \"abu\", \"kurdish\", \"palestinian\", \"syrians\", \"israelis\", \"civilians\", \"shiite\", \"kabul\", \"haram\", \"islamist\", \"evacuation\", \"afghans\", \"rebels\", \"raqqa\", \"bombings\", \"gaza\", \"gunfire\", \"msf\", \"police\", \"syrian\", \"fighters\", \"asylum\", \"duterte\", \"israeli\", \"detained\", \"mosque\", \"officers\", \"victims\", \"soldiers\", \"arrested\", \"isis\", \"troops\", \"afghanistan\", \"killed\", \"syria\", \"islamic\", \"saudi\", \"prison\", \"refugees\", \"shooting\", \"turkey\", \"refugee\", \"violence\", \"israel\", \"military\", \"authorities\", \"attack\", \"forces\", \"army\", \"war\", \"gun\", \"reports\", \"officer\", \"city\", \"minister\", \"said\", \"iraq\", \"attacks\", \"told\", \"says\", \"government\", \"people\", \"reported\", \"according\", \"country\", \"rights\", \"death\", \"npr\", \"years\", \"group\", \"say\", \"state\", \"time\", \"man\", \"security\", \"day\", \"family\", \"just\", \"new\", \"year\", \"women\", \"000\", \"olympic\", \"samsung\", \"seoul\", \"biles\", \"uber\", \"lochte\", \"jong\", \"pyongyang\", \"vr\", \"whales\", \"janeiro\", \"warmbier\", \"doping\", \"swimmers\", \"olympics\", \"raisman\", \"fisheries\", \"noaa\", \"methane\", \"rugby\", \"amaranth\", \"algae\", \"athletes\", \"hydrogen\", \"paralympic\", \"gymnasts\", \"mammal\", \"blockchain\", \"zoos\", \"midazolam\", \"wildlife\", \"conservation\", \"nitrogen\", \"shanghai\", \"species\", \"korea\", \"rio\", \"beijing\", \"korean\", \"koreans\", \"flint\", \"nfl\", \"bats\", \"fishermen\", \"pollution\", \"china\", \"chinese\", \"sport\", \"taiwan\", \"google\", \"scientists\", \"games\", \"water\", \"animals\", \"flu\", \"humans\", \"players\", \"brazil\", \"animal\", \"fish\", \"climate\", \"science\", \"team\", \"technology\", \"game\", \"north\", \"park\", \"oil\", \"says\", \"world\", \"facebook\", \"human\", \"university\", \"new\", \"like\", \"just\", \"company\", \"time\", \"use\", \"people\", \"years\", \"national\", \"way\", \"south\", \"year\", \"said\", \"make\", \"don\", \"used\"], \"Total\": [22587.0, 45469.0, 8464.0, 7278.0, 11425.0, 28489.0, 4959.0, 5557.0, 4970.0, 7929.0, 3591.0, 5529.0, 3667.0, 3497.0, 2401.0, 3609.0, 2967.0, 2949.0, 2772.0, 2687.0, 2320.0, 2555.0, 2620.0, 2341.0, 6734.0, 2300.0, 3604.0, 9955.0, 3506.0, 2541.0, 1653.0365104742962, 1282.1915008095157, 531.6168644530845, 511.89093052857294, 1794.0946625663498, 392.5490080924532, 374.79565459384673, 447.7821643882127, 354.0834110606044, 315.6178285070667, 302.79597825664155, 857.0933423036049, 285.04262224891403, 256.4400141424982, 611.5058034040835, 246.57705416949008, 234.74147690046408, 229.8099990749456, 215.01554134236707, 216.98828805154977, 213.04295482921285, 202.1936812140483, 487.2337057227305, 3609.8356859744795, 181.4814677465754, 181.48160546145544, 178.522581278255, 177.53629041504175, 176.54996771269754, 171.61848489608326, 1875.007497720751, 1253.6244064790094, 755.5711181707092, 415.26306191232703, 508.9483069303429, 1304.9289264589802, 746.6273122393391, 462.58001250918585, 263.34409922697904, 788.2153320985615, 473.4201855680083, 494.2036484803115, 3155.1004836675916, 1363.40549247464, 679.7124608671116, 2865.7427911770233, 692.4506700878885, 776.1872873342935, 1172.952236151235, 968.5976982824558, 6243.234795227492, 21165.269941101535, 1244.2890230913783, 8229.029690922413, 1567.4787031376286, 3462.4243593970327, 4540.571974909675, 18649.247172498337, 4680.008828715662, 9984.471285058187, 10702.0588770125, 4092.7694728359675, 10135.786440963786, 6142.696902557857, 14314.43803709179, 4696.513587528697, 4641.025257195828, 1746.7851827976253, 7285.960434968994, 28102.551409564723, 45469.002679203055, 10574.760885649117, 17309.11056943, 12934.868454528296, 8255.961803159847, 5241.727703521255, 6394.337513140809, 9343.173053720297, 7769.244964148477, 9329.723507192797, 5692.645997563287, 6775.506199459588, 7097.514678556667, 5832.241548545443, 7278.158375144321, 22587.145962290688, 2300.444378265158, 2341.8760041874416, 1353.4357653420125, 1293.2612569699372, 1065.3873341021467, 2174.1763402734505, 751.6907085212844, 732.9478392447644, 717.164371174275, 2772.9697144163306, 538.6137766421674, 420.2376991002336, 361.049664544806, 347.2391184557385, 346.2526582908436, 344.2797196465803, 306.79396034911906, 3591.7276114519445, 421.2277033070096, 315.6721935497646, 297.9157563110742, 276.21347083145724, 266.34879909576705, 430.1017966547403, 261.4164642121547, 277.20055165163853, 236.75478259117233, 379.79373426582794, 2555.991508756005, 2949.595747684729, 3667.7998091120558, 2967.3154262644257, 2687.103442559783, 1056.5146940730144, 2620.1761014195654, 692.4982317053799, 680.6642729881464, 1725.4025779042652, 1407.7405794934261, 937.1496799508027, 2541.231224617228, 639.2325845548183, 638.2406003408673, 5557.213380656297, 4970.809446405521, 1480.9535226504875, 1756.2372621407928, 1365.4121434874137, 11425.98378307422, 1375.199991004304, 3506.0035481298905, 1331.010052441402, 6734.9600843463195, 4010.412362972639, 2192.4363763226283, 4157.3099621309, 28489.00086911742, 3400.5442320894954, 6499.418783320445, 9955.701080368803, 5993.346334959575, 2391.6923152340955, 17309.11056943, 28102.551409564723, 5694.602050774741, 5011.72741742532, 18649.247172498337, 7502.000352820283, 9329.723507192797, 14314.43803709179, 10702.0588770125, 21165.269941101535, 1055.9947607254296, 503.27875480792807, 445.9307292061043, 407.3691145117523, 379.6838556880865, 335.1896986302102, 242.24634035867544, 2320.5928363417042, 227.4149470760125, 316.40704560362263, 181.93205884657672, 143.3704101483406, 142.38165347466, 140.404137963897, 122.60646076201486, 286.73764121611373, 116.67391863287234, 362.87106465134025, 113.707666858776, 107.77508744313265, 105.79757920905207, 459.764063364389, 101.84252988966331, 95.90997671258629, 91.95493712611339, 89.97741653340086, 88.98866271781829, 188.85103536457493, 83.0561050594426, 78.11231033086818, 2083.2430937920176, 360.88685225925894, 542.8798092056854, 8464.157215691315, 377.68883178008974, 207.66270534142362, 477.5467385344989, 379.7546704843336, 433.0563993365152, 317.3779214682367, 756.5655861713777, 363.9513743227185, 1522.4356435264158, 1033.2801997052993, 323.306883619447, 922.3761072636988, 962.154203633621, 2525.5073077602087, 2186.976180645436, 482.51961543751867, 2153.654098611508, 1067.9837646949072, 5529.53020714075, 1405.6814567601432, 1613.284318170193, 1353.3327786978173, 1089.4724814845586, 3604.2355205877925, 1276.588026040437, 1330.4506408145999, 818.7856497123462, 1177.229379925655, 986.510999202984, 7929.105817202081, 2410.718768604076, 2513.2731037742874, 1339.1273704458135, 2003.9295501164902, 1618.0922899750265, 45469.002679203055, 3253.4893201044056, 2519.494361204753, 3796.289607349611, 3287.786447723628, 28102.551409564723, 6022.797855907826, 2104.61665865599, 3859.5534731406265, 5103.262032819081, 5401.950907908498, 4233.325812307746, 5377.4350155912325, 10226.508159412966, 2675.4580112011236, 4456.3865055346305, 17309.11056943, 12934.868454528296, 4724.679927571261, 10574.760885649117, 21165.269941101535, 7769.244964148477, 28489.00086911742, 18649.247172498337, 7622.183385197154, 5415.922516548757, 9343.173053720297, 9955.701080368803, 14314.43803709179, 375.4130196240062, 403.98770571756387, 313.33747353252494, 350.779996181566, 305.45486647019067, 225.6434624372159, 217.76084148749277, 205.93694007594317, 382.31114049598835, 190.1717113121438, 185.2450897582801, 168.49453745537335, 154.70016071587827, 143.86138870659073, 317.28014283310637, 132.0375231445586, 123.16954299356313, 502.52295171459645, 121.19888284814863, 113.31627651514293, 113.31629267371571, 112.33095088198513, 104.44849714329807, 99.52170832121939, 279.8382023197772, 94.59508516499555, 99.52176282957689, 151.74451402437853, 90.65377657903421, 90.65379083864802, 4959.39596297924, 1040.5265446159085, 364.57718259535415, 291.6629229059259, 257.1761741321997, 430.6073314722902, 246.3389578607224, 147.80329040861096, 1449.53711736356, 1011.0583807280165, 582.3524727911662, 663.219777022676, 1424.894836686518, 614.8807225974358, 703.5780323794238, 2058.4656560785706, 1460.3910279848567, 669.0793141699709, 567.582406908537, 1157.9503540079113, 1190.4245335481808, 1052.691815526965, 827.7876008324113, 686.8364780298664, 1600.5613031916926, 633.65386987974, 2252.4272419017507, 1077.0428098840878, 2226.13105176518, 1280.5573318764796, 969.9527822777443, 3218.4954454197878, 1270.4456892619564, 3747.65460525627, 1219.8220442699376, 5371.091288362656, 1019.212798194121, 28489.00086911742, 957.9439423141229, 1410.681195185134, 7171.714194340642, 45469.002679203055, 6396.24806529428, 28102.551409564723, 3793.338606692281, 5927.061214291136, 7502.000352820283, 2713.250740174402, 2578.557467467404, 6537.668647887096, 12934.868454528296, 4921.5214704961745, 9394.70423659264, 9955.701080368803, 14314.43803709179, 3749.293921250382, 3160.1479820929003, 7097.514678556667, 5774.462483737025, 18649.247172498337, 17309.11056943, 10226.508159412966, 7622.183385197154, 5401.950907908498, 526.2507410601427, 172.75182151257422, 126.81530961609651, 115.83054156051064, 468.3178937881189, 112.83465791583623, 105.84430072016434, 92.86222731359189, 93.86071714822752, 150.77543097006708, 89.86613048846273, 86.87049134328235, 82.87604770965854, 72.88980009858177, 402.37929454649856, 61.905009001923595, 98.84910598433353, 68.8942461015786, 126.8061733537152, 54.91462684968133, 54.91458879496658, 62.90228580056308, 527.1740902713545, 73.88445940265305, 51.91878128836587, 51.91877733405566, 50.920125544835585, 49.92152305121163, 48.922873419821876, 47.924140133792505, 362.3891133399326, 231.63234248368045, 88.8580115965938, 95.84286931466029, 777.4657085207745, 1051.8220953980483, 547.9388767287522, 289.4767751571671, 520.9459236515305, 98.83543620394853, 469.9894437033204, 214.59470219060145, 120.79421523628282, 138.7547654096118, 262.48301426936933, 2401.6649431159076, 1223.53403089912, 336.1647831515665, 134.75508167355713, 678.9413867741943, 1729.748645093253, 756.3543351928453, 3497.997249710845, 1283.8914761321662, 317.17619658995255, 831.798689178906, 731.1549196762207, 632.7400027334236, 791.4706300682353, 689.993920707451, 1369.7101471178312, 2203.2977178033866, 3106.7012753791696, 1281.1544741054113, 1665.1227591923582, 2774.56120045016, 1195.138566795018, 1200.430296060257, 45469.002679203055, 8255.961803159847, 1625.0439227794327, 3134.5670647435063, 4724.679927571261, 17309.11056943, 21165.269941101535, 18649.247172498337, 3833.532175274217, 14314.43803709179, 4954.879992498283, 28102.551409564723, 12934.868454528296, 5694.602050774741, 10135.786440963786, 2853.445826703106, 10226.508159412966, 28489.00086911742, 9343.173053720297, 10574.760885649117, 4680.008933524009], \"loglift\": [30.0, 29.0, 28.0, 27.0, 26.0, 25.0, 24.0, 23.0, 22.0, 21.0, 20.0, 19.0, 18.0, 17.0, 16.0, 15.0, 14.0, 13.0, 12.0, 11.0, 10.0, 9.0, 8.0, 7.0, 6.0, 5.0, 4.0, 3.0, 2.0, 1.0, 1.2455, 1.2452, 1.2445, 1.2444, 1.2442, 1.2439, 1.2438, 1.2437, 1.2437, 1.2434, 1.2433, 1.2432, 1.2432, 1.2428, 1.2428, 1.2427, 1.2426, 1.2425, 1.2422, 1.2422, 1.2422, 1.242, 1.242, 1.2417, 1.2415, 1.2415, 1.2415, 1.2414, 1.2414, 1.2413, 1.2335, 1.2339, 1.2348, 1.2383, 1.2346, 1.2251, 1.2258, 1.2336, 1.239, 1.2165, 1.2256, 1.2243, 1.1624, 1.1878, 1.2039, 1.1374, 1.1967, 1.1849, 1.1549, 1.1653, 0.88, 0.6974, 1.076, 0.7643, 1.0296, 0.8749, 0.8118, 0.5227, 0.7927, 0.6313, 0.5744, 0.7774, 0.5525, 0.655, 0.3814, 0.7035, 0.68, 0.9742, 0.5058, -0.0327, -0.2335, 0.3126, 0.1201, 0.1754, 0.356, 0.5689, 0.4697, 0.2584, 0.3347, 0.2136, 0.505, 0.3551, 0.2921, 0.4642, 1.4739, 1.4739, 1.4737, 1.4737, 1.4734, 1.4734, 1.4733, 1.473, 1.473, 1.4729, 1.4729, 1.4726, 1.4725, 1.4721, 1.4718, 1.4717, 1.4717, 1.4717, 1.4714, 1.4714, 1.4714, 1.4714, 1.4714, 1.4712, 1.471, 1.471, 1.471, 1.471, 1.4707, 1.4705, 1.4649, 1.4633, 1.4606, 1.4614, 1.4612, 1.4678, 1.4544, 1.4662, 1.4656, 1.4562, 1.4553, 1.4616, 1.4387, 1.4649, 1.4641, 1.4101, 1.412, 1.4442, 1.4372, 1.4351, 1.3023, 1.4229, 1.3173, 1.4028, 1.11, 1.1961, 1.3083, 1.1639, 0.7097, 1.191, 0.9712, 0.7924, 0.8385, 1.2253, 0.0956, -0.4378, 0.6362, 0.7173, -0.3192, 0.3908, 0.1858, -0.2127, 0.0505, -0.674, 1.5873, 1.5866, 1.5864, 1.5862, 1.5861, 1.5858, 1.5849, 1.5847, 1.5847, 1.5844, 1.5838, 1.5826, 1.5826, 1.5825, 1.5816, 1.5814, 1.5814, 1.5813, 1.5811, 1.5808, 1.5806, 1.5804, 1.5804, 1.5799, 1.5795, 1.5793, 1.5792, 1.579, 1.5786, 1.5778, 1.5726, 1.5729, 1.5686, 1.54, 1.568, 1.573, 1.5643, 1.5669, 1.5638, 1.5674, 1.5487, 1.5612, 1.5311, 1.5282, 1.5627, 1.5305, 1.5291, 1.4828, 1.471, 1.5443, 1.4428, 1.4882, 1.3695, 1.4627, 1.4448, 1.4516, 1.4653, 1.3271, 1.4407, 1.4314, 1.4861, 1.4405, 1.4627, 1.175, 1.3317, 1.3241, 1.4081, 1.3325, 1.3604, 0.6676, 1.1937, 1.2336, 1.087, 1.124, 0.4205, 0.8757, 1.2386, 1.0071, 0.8578, 0.8208, 0.911, 0.7816, 0.4658, 1.1169, 0.8136, 0.0226, 0.1542, 0.7608, 0.2422, -0.26, 0.41, -0.538, -0.2404, 0.4123, 0.6643, 0.1881, 0.1271, -0.2815, 1.7816, 1.7813, 1.7812, 1.7812, 1.7811, 1.7802, 1.7801, 1.7799, 1.7797, 1.7795, 1.7794, 1.779, 1.7785, 1.7782, 1.7775, 1.7774, 1.7772, 1.7772, 1.7772, 1.7767, 1.7766, 1.7766, 1.7759, 1.7757, 1.7753, 1.7753, 1.7753, 1.7751, 1.7749, 1.7749, 1.766, 1.7676, 1.7745, 1.7733, 1.7725, 1.7672, 1.7699, 1.7748, 1.7369, 1.7429, 1.7534, 1.7424, 1.7144, 1.7359, 1.7298, 1.6868, 1.7005, 1.7306, 1.736, 1.692, 1.6895, 1.6801, 1.6937, 1.7047, 1.6247, 1.7036, 1.5773, 1.65, 1.5544, 1.6204, 1.6337, 1.4224, 1.5676, 1.3726, 1.5522, 1.1722, 1.5775, 0.5625, 1.5803, 1.422, 0.7921, 0.0081, 0.8058, 0.1904, 1.0043, 0.7564, 0.5833, 1.0887, 1.0899, 0.5607, 0.0291, 0.634, 0.1871, 0.1177, -0.1996, 0.8039, 0.921, 0.2828, 0.4381, -0.5439, -0.5892, -0.1961, 0.0748, 0.4133, 2.1945, 2.1934, 2.1917, 2.1912, 2.1911, 2.191, 2.1905, 2.1895, 2.1894, 2.1891, 2.1889, 2.1889, 2.1885, 2.1871, 2.1854, 2.1852, 2.185, 2.1849, 2.1844, 2.1835, 2.1835, 2.1833, 2.183, 2.1829, 2.1827, 2.1827, 2.1823, 2.1821, 2.1817, 2.1811, 2.1749, 2.1788, 2.178, 2.1768, 2.1487, 2.141, 2.1538, 2.1628, 2.1473, 2.1759, 2.1336, 2.1563, 2.1716, 2.1666, 2.138, 2.0455, 2.0737, 2.1054, 2.1618, 2.045, 1.9545, 2.012, 1.8588, 1.9539, 2.0713, 1.9651, 1.9733, 1.9582, 1.8995, 1.913, 1.7847, 1.6493, 1.5558, 1.7521, 1.658, 1.4307, 1.6795, 1.6674, 0.3908, 0.7043, 1.4782, 1.1425, 0.846, 0.09, -0.2151, -0.2072, 0.8383, -0.086, 0.6448, -0.6249, -0.0729, 0.4928, -0.035, 0.9695, -0.0701, -0.9504, -0.0487, -0.2586, 0.4983], \"logprob\": [30.0, 29.0, 28.0, 27.0, 26.0, 25.0, 24.0, 23.0, 22.0, 21.0, 20.0, 19.0, 18.0, 17.0, 16.0, 15.0, 14.0, 13.0, 12.0, 11.0, 10.0, 9.0, 8.0, 7.0, 6.0, 5.0, 4.0, 3.0, 2.0, 1.0, -6.6684, -6.9228, -7.8039, -7.8417, -6.5878, -8.1077, -8.1541, -7.9762, -8.211, -8.3263, -8.3679, -7.3275, -8.4284, -8.5345, -7.6655, -8.5739, -8.6232, -8.6445, -8.7113, -8.7022, -8.7205, -8.773, -7.8935, -5.8911, -8.8816, -8.8816, -8.8981, -8.9036, -8.9093, -8.9377, -6.5544, -6.9565, -7.462, -8.0571, -7.8573, -6.9252, -7.4829, -7.9538, -8.5118, -7.438, -7.9386, -7.897, -6.105, -6.9187, -7.5987, -6.2263, -7.5873, -7.4849, -7.102, -7.2831, -5.7049, -4.6667, -7.122, -5.5445, -6.9375, -6.2996, -6.0916, -4.968, -6.0805, -5.4841, -5.4717, -6.2299, -5.5479, -5.9462, -5.3739, -6.1662, -6.2015, -6.8845, -5.9247, -5.1133, -4.833, -5.7454, -5.4451, -5.6811, -5.9496, -6.191, -6.0914, -5.9234, -6.0316, -5.9697, -6.1723, -6.1481, -6.1646, -6.1889, -4.9577, -3.8252, -6.1097, -6.0919, -6.6404, -6.6859, -6.8799, -6.1668, -7.2289, -7.2542, -7.276, -5.924, -7.5627, -7.8113, -7.9634, -8.0025, -8.0053, -8.0111, -8.1266, -5.6664, -7.8097, -8.0981, -8.1561, -8.2319, -8.2684, -7.7892, -8.2871, -8.2285, -8.3865, -7.9141, -6.0132, -5.8715, -5.6563, -5.8674, -5.9668, -6.8937, -5.9989, -7.3177, -7.3356, -6.4148, -6.6192, -7.0198, -6.0452, -7.3991, -7.4014, -5.2913, -5.4009, -6.5796, -6.4161, -6.67, -4.6783, -6.675, -5.8447, -6.7278, -5.3992, -5.8315, -6.3232, -5.8277, -4.3573, -6.0016, -5.5736, -5.326, -5.7874, -6.3191, -5.4697, -5.5185, -6.0408, -6.0874, -5.8099, -6.0105, -5.9975, -5.9679, -5.9955, -6.0381, -6.7747, -7.5165, -7.6377, -7.7283, -7.7988, -7.9237, -8.2494, -5.99, -8.3128, -7.9828, -8.5368, -8.7762, -8.7832, -8.7972, -8.9336, -8.0843, -8.9835, -7.8489, -9.0095, -9.0634, -9.0821, -7.6131, -9.1205, -9.181, -9.2234, -9.2454, -9.2565, -8.5043, -9.3261, -9.3882, -6.1099, -7.8628, -7.4587, -4.7407, -7.8221, -8.4153, -7.5912, -7.8178, -7.6896, -7.9968, -7.1467, -7.866, -6.4651, -6.8556, -7.983, -6.9668, -6.926, -6.0073, -6.163, -7.6009, -6.2066, -6.8625, -5.3369, -6.6132, -6.4935, -6.6623, -6.8655, -5.8072, -6.7316, -6.6995, -7.1303, -6.8129, -6.9673, -5.1709, -6.2049, -6.1708, -6.7164, -6.3889, -6.5748, -3.9319, -6.0431, -6.2588, -5.9955, -6.1022, -4.6601, -5.7453, -6.4338, -6.0589, -5.9288, -5.9089, -6.0625, -5.9527, -5.6257, -6.3155, -6.1086, -5.5427, -5.7023, -6.1029, -5.8158, -5.6242, -5.9563, -5.6049, -5.7311, -5.9731, -6.0628, -5.9938, -5.9912, -6.0367, -7.6146, -7.5416, -7.7958, -7.6829, -7.8213, -8.1251, -8.1608, -8.2168, -7.5983, -8.2968, -8.3232, -8.4183, -8.5043, -8.5772, -7.7869, -8.6637, -8.7334, -7.3274, -8.7497, -8.8174, -8.8174, -8.8262, -8.8996, -8.9481, -7.9147, -8.9993, -8.9486, -8.5269, -9.0423, -9.0423, -5.0492, -6.6092, -7.651, -7.8753, -8.0019, -7.4918, -8.0476, -8.5536, -6.3083, -6.6625, -7.2037, -7.0848, -6.348, -7.1669, -7.0382, -6.0077, -6.3373, -7.0877, -7.2468, -6.5778, -6.5527, -6.685, -6.9118, -7.0874, -6.3214, -7.1691, -6.0272, -6.6922, -6.0619, -6.5488, -6.8133, -5.8252, -6.6095, -5.7227, -6.6656, -5.5633, -6.8199, -4.5045, -6.8791, -6.6504, -5.6542, -4.5913, -5.755, -4.8902, -6.0789, -5.8806, -5.818, -6.3296, -6.3794, -5.9782, -5.8275, -6.1889, -5.9892, -6.0006, -5.9549, -6.291, -6.3449, -6.1739, -6.225, -6.0345, -6.1544, -6.2876, -6.3106, -6.3165, -6.8639, -7.979, -8.2898, -8.3809, -6.984, -8.4073, -8.4718, -8.6037, -8.593, -8.1193, -8.637, -8.671, -8.7184, -8.8482, -7.1414, -9.0134, -8.5456, -8.9068, -8.2971, -9.1349, -9.135, -8.9994, -6.8737, -8.8388, -9.1919, -9.1919, -9.2116, -9.2317, -9.2523, -9.2735, -7.2567, -7.7003, -8.6592, -8.5847, -6.5195, -6.2249, -6.8643, -7.4933, -6.9213, -8.5549, -7.0379, -7.7991, -8.3585, -8.2249, -7.6161, -5.4948, -6.141, -7.4012, -8.2589, -6.7587, -5.914, -6.6837, -5.3055, -6.2127, -7.4935, -6.6356, -6.7563, -6.916, -6.7508, -6.8746, -6.3172, -5.9772, -5.7272, -6.4167, -6.2486, -5.9653, -6.5587, -6.5664, -4.2086, -5.6013, -6.4528, -6.1315, -6.0177, -5.4753, -5.5792, -5.6979, -6.2344, -5.8413, -6.1713, -5.7056, -5.9295, -6.1842, -6.1355, -6.3985, -6.1616, -6.0174, -6.2305, -6.3167, -6.3749]}, \"token.table\": {\"Topic\": [1, 2, 3, 4, 5, 4, 1, 2, 3, 4, 5, 2, 3, 4, 5, 4, 1, 2, 3, 4, 4, 2, 4, 1, 1, 4, 5, 5, 1, 3, 4, 5, 1, 3, 4, 5, 3, 1, 2, 3, 4, 5, 1, 2, 3, 4, 5, 1, 2, 4, 5, 1, 2, 4, 1, 4, 2, 4, 1, 5, 1, 2, 3, 4, 5, 1, 2, 3, 4, 5, 2, 3, 4, 5, 1, 2, 3, 4, 5, 2, 1, 1, 1, 5, 2, 5, 1, 2, 3, 4, 5, 1, 2, 5, 1, 2, 3, 4, 5, 5, 4, 1, 2, 3, 4, 5, 1, 2, 3, 4, 5, 1, 1, 2, 3, 4, 5, 1, 1, 2, 3, 4, 5, 1, 2, 3, 4, 5, 1, 2, 3, 5, 1, 2, 3, 4, 5, 1, 2, 3, 4, 5, 1, 2, 3, 4, 5, 4, 2, 2, 3, 5, 1, 2, 4, 5, 1, 4, 5, 1, 2, 3, 4, 5, 1, 2, 3, 4, 5, 1, 2, 3, 4, 5, 3, 1, 2, 3, 4, 5, 2, 4, 1, 2, 3, 4, 5, 1, 3, 4, 2, 3, 4, 2, 1, 2, 1, 1, 1, 2, 3, 4, 5, 1, 2, 3, 4, 5, 1, 2, 3, 4, 5, 1, 1, 2, 3, 5, 2, 3, 1, 2, 3, 5, 1, 2, 3, 4, 5, 1, 2, 3, 4, 5, 1, 2, 3, 4, 5, 1, 2, 3, 4, 5, 1, 2, 3, 5, 1, 1, 2, 3, 4, 5, 1, 2, 3, 4, 5, 1, 2, 3, 4, 5, 1, 2, 3, 4, 5, 1, 2, 3, 4, 5, 3, 2, 1, 2, 3, 4, 5, 2, 2, 4, 1, 3, 1, 2, 3, 4, 5, 1, 3, 5, 2, 1, 3, 4, 5, 1, 2, 3, 4, 5, 1, 2, 3, 4, 5, 1, 2, 3, 4, 5, 1, 2, 3, 4, 5, 1, 2, 3, 4, 5, 1, 2, 4, 3, 1, 2, 3, 4, 5, 1, 2, 3, 4, 2, 4, 3, 3, 4, 4, 1, 2, 3, 4, 5, 1, 2, 3, 4, 5, 1, 3, 4, 5, 3, 3, 1, 2, 3, 4, 5, 3, 1, 2, 4, 1, 4, 5, 1, 5, 1, 3, 4, 5, 3, 5, 1, 4, 5, 1, 2, 5, 1, 3, 5, 1, 2, 1, 3, 4, 5, 1, 2, 3, 4, 5, 1, 2, 3, 5, 1, 2, 3, 4, 5, 1, 2, 3, 4, 5, 1, 4, 1, 1, 2, 3, 4, 5, 1, 2, 3, 4, 5, 1, 2, 3, 4, 5, 2, 3, 2, 1, 2, 3, 4, 5, 1, 2, 3, 4, 5, 1, 2, 3, 4, 5, 1, 1, 2, 3, 4, 5, 4, 5, 4, 1, 2, 3, 4, 5, 1, 2, 3, 4, 5, 3, 1, 2, 1, 3, 1, 2, 3, 4, 5, 1, 2, 3, 4, 5, 1, 3, 4, 5, 1, 2, 1, 5, 1, 2, 3, 4, 3, 5, 3, 5, 2, 3, 3, 3, 1, 2, 4, 2, 4, 2, 4, 2, 4, 4, 1, 2, 3, 4, 5, 2, 3, 4, 4, 3, 5, 1, 5, 1, 2, 3, 4, 5, 2, 4, 2, 3, 2, 1, 2, 3, 4, 5, 1, 2, 3, 4, 5, 1, 2, 3, 4, 5, 2, 4, 5, 1, 2, 4, 5, 4, 5, 4, 1, 2, 3, 4, 5, 1, 2, 3, 4, 5, 1, 2, 3, 4, 5, 5, 1, 2, 3, 4, 5, 1, 2, 3, 4, 5, 1, 1, 2, 3, 4, 5, 5, 1, 2, 3, 4, 5, 4, 2, 3, 1, 2, 3, 4, 5, 2, 3, 1, 2, 3, 3, 1, 3, 4, 5, 3, 5, 3, 5, 5, 4, 1, 2, 3, 4, 5, 1, 2, 3, 4, 5, 1, 2, 3, 4, 5, 1, 2, 3, 4, 5, 2, 4, 4, 1, 4, 5, 1, 2, 3, 5, 4, 1, 4, 1, 4, 1, 1, 2, 3, 1, 2, 3, 4, 5, 1, 2, 3, 4, 5, 1, 2, 3, 4, 5, 1, 2, 3, 4, 5, 1, 2, 5, 3, 5, 5, 2, 1, 2, 3, 4, 5, 1, 2, 3, 4, 5, 1, 2, 3, 4, 5, 1, 2, 3, 4, 5, 1, 3, 1, 2, 3, 4, 5, 2, 3, 4, 5, 1, 2, 3, 4, 5, 1, 5, 1, 4, 5, 3, 3, 2, 4, 4, 5, 1, 2, 3, 4, 5, 1, 2, 4, 5, 1, 2, 3, 4, 3, 4, 1, 2, 3, 4, 5, 2, 1, 2, 3, 4, 5, 1, 2, 3, 4, 5, 1, 3, 1, 1, 1, 2, 3, 4, 5, 1, 1, 2, 3, 4, 5, 1, 2, 3, 4, 5, 2, 3, 4, 3, 5, 1, 2, 3, 4, 5, 3, 3, 1, 2, 3, 2, 4, 1, 2, 3, 4, 5, 1, 2, 4, 2, 3, 4, 5, 3, 2, 1, 2, 3, 4, 1, 2, 3, 4, 5, 1, 2, 3, 4, 5, 1, 2, 3, 4, 5, 2, 3, 5, 5, 4, 1, 2, 3, 4, 5, 2, 3, 4, 5, 1, 2, 3, 4, 5, 2, 4, 1, 1, 2, 3, 4, 1, 2, 3, 4, 5, 1, 2, 3, 4, 5, 1, 2, 3, 4, 5, 2, 3, 2, 3, 1, 2, 3, 4, 5, 1, 2, 3, 4, 5, 1, 3, 4, 5, 2, 2, 5, 2, 4, 5, 1, 2, 3, 4, 5, 5, 2, 2, 3, 4, 1, 2, 3, 4, 5, 1, 2, 3, 4, 5, 2, 1, 2, 3, 4, 5, 1, 2, 3, 4, 5, 1, 2, 3, 5, 1, 2, 3, 4, 5, 2, 3, 4, 2, 3, 2, 4, 5, 1, 1, 5, 4, 1, 2, 3, 4, 5, 1, 2, 4, 1, 2, 4, 5, 1, 1, 3, 4, 1, 3, 4, 5, 1, 1, 2, 3, 4, 5, 1, 2, 3, 4, 5, 1, 3, 5, 1, 2, 5, 1, 2, 3, 4, 5, 1, 2, 3, 4, 5, 1, 2, 3, 4, 5, 1, 2, 3, 4, 5, 1, 2, 3, 4, 5, 1, 1, 2, 3, 4, 5, 1, 1, 2, 3, 4, 5, 5, 1, 3, 4, 5, 2, 4, 2, 4, 4, 2, 5, 4, 2, 3, 1, 2, 3, 4, 5, 1, 2, 3, 4, 5, 1, 2, 3, 4, 5, 1, 2, 3, 4, 5, 1, 2, 3, 4, 5, 2, 1, 2, 3, 4, 5, 1, 2, 3, 4, 5, 1, 2, 3, 4, 5, 1, 2, 4, 2, 3, 4, 1, 2, 3, 4, 4, 3, 4, 5, 3, 1, 2, 3, 4, 5, 3, 1, 2, 3, 4, 5, 1, 2, 3, 4, 5, 1, 2, 3, 4, 5, 1, 2, 3, 4, 5, 1, 2, 3, 4, 5, 2, 3, 4, 5, 2, 2, 3, 2, 1, 2, 3, 5, 1, 2, 3, 4, 5, 1, 2, 3, 4, 5, 5, 1, 2, 3, 4, 5, 1, 2, 3, 4, 5, 1, 5, 1, 2, 3, 4, 5, 1, 4, 5, 1, 2, 3, 4, 5, 1, 2, 3, 4, 5, 1, 2, 3, 4, 5, 1, 2, 3, 4, 5, 1, 2, 3, 4, 5, 1, 2, 3, 4, 5, 3, 5, 5], \"Freq\": [0.04535398491706359, 0.08922702338785572, 0.464276710906104, 0.2539823155355561, 0.1473541714040107, 0.9954740789367105, 0.03138148793731418, 0.179684326092686, 0.29761798237323767, 0.35801891076871334, 0.13328696489504407, 0.7534088149254143, 0.19643914456291053, 0.0320536927505348, 0.01793830511727177, 0.998899826051798, 0.002842612912794078, 0.042639193691911166, 0.005685225825588156, 0.948011406416825, 0.9947578439918303, 0.9986904423937664, 0.9970649644621011, 0.9993729657707325, 0.9980424790640341, 0.9975551094659935, 0.9856557549685261, 0.9833452491398713, 0.1844667312385462, 0.06317353809539254, 0.010107766095262807, 0.7416573372399085, 0.17057516470142506, 0.04439627574420652, 0.0007788820306001145, 0.7835553227837152, 0.9948768850719008, 0.05361085709542291, 0.06495161532714698, 0.0010309780210658252, 0.860866647589964, 0.020619560421316505, 0.025632528746830113, 0.003015591617274131, 0.003015591617274131, 0.9589581342931737, 0.007538979043185327, 0.9432263600947173, 0.017602980281705455, 0.016869522769967726, 0.02127026784039409, 0.9804088170904601, 0.013393563075006285, 0.005357425230002514, 0.9975576262230919, 0.0023334681315160043, 0.0068572308748516796, 0.9908698614160677, 0.013278346051485309, 0.9844945143886964, 0.017519184222813605, 0.1392550540787748, 0.025604961556419885, 0.7951014378046175, 0.022460492593350777, 0.007088773873311346, 0.2544869820518773, 0.03827937891588127, 0.6961175943591741, 0.003544386936655673, 0.035281791634716536, 0.02414017322375342, 0.8746170452606047, 0.06499277406395151, 0.9793636834060735, 0.011494878913216825, 0.0015326505217622432, 0.0038316263044056082, 0.0030653010435244864, 0.9956067644789212, 0.9969792631479005, 0.9970727441060218, 0.02483562639263617, 0.9768679714436894, 0.03109057711145768, 0.9638078904551881, 0.028454137692177563, 0.07159428193515645, 0.8839140192763546, 0.0036715016377003307, 0.011932380322526075, 0.00782187911068732, 0.9902498954130148, 0.9928296842152227, 0.5677624778952622, 0.1314364749586755, 0.0366298372835653, 0.21309946513791816, 0.050850832934831836, 0.9815405661749084, 0.9947572991600806, 0.9197805315622216, 0.03232860586469559, 0.0025355769305643603, 0.020918509677155972, 0.024404927956681966, 0.9130806583516418, 0.023871389760827234, 0.04177493208144766, 0.012788244514728877, 0.009378045977467843, 0.9963422233465017, 0.014223851757625862, 0.0015804279730695402, 0.19123178474141436, 0.006321711892278161, 0.787053130588631, 0.9968849175118938, 0.02399650975557396, 0.9504072197131869, 0.00290866784916048, 0.018179174057253, 0.0050901687360308395, 0.003598926049810604, 0.9380600748831339, 0.024832589743693168, 0.028971354700975362, 0.004678603864753785, 0.12996617533420915, 0.005946164884571661, 0.8630433603892582, 0.0016989042527347602, 0.008540987213604337, 0.9639927568421428, 0.01366557954176694, 0.0011387982951472449, 0.013096180394193318, 0.001350481273997422, 0.9703207953671475, 0.013504812739974219, 0.0020257219109961326, 0.012154331465976796, 0.061126350221129465, 0.11791236788217872, 0.8036849123748501, 0.015733705530290718, 0.0016276247100300745, 0.995450354484253, 0.9962829072595563, 0.9984068937149393, 0.9726574069372945, 0.02472857814247359, 0.9229838162792101, 0.06607490407367947, 0.007226942633058692, 0.004129681504604967, 0.9886561066660933, 0.0026470043016495136, 0.00794101290494854, 0.228873217265465, 0.028413199061209267, 0.48165271236174056, 0.22808940487756957, 0.03272416719463412, 0.0033310225154141782, 0.10326169797783953, 0.03206109171086147, 0.0029146447009874062, 0.8585710533480044, 0.0694708915758864, 0.03677870730488104, 0.00408652303387567, 0.006538436854201073, 0.8826889753171449, 0.9950535986582956, 0.18264444734452684, 0.06367421100084422, 0.1234386020279524, 0.5425340668317545, 0.08769167655379423, 0.005969876579296669, 0.9929894710230125, 0.02409268856585402, 0.205882975017298, 0.10440165045203409, 0.004380488830155276, 0.6614538133534468, 0.002175028628123646, 0.9918130544243825, 0.0065250858843709375, 0.013238411039146802, 0.9796424168968635, 0.005295364415658721, 0.9998408422729193, 0.998259530545593, 0.9990247469618844, 0.9978770976021348, 0.9969402377328008, 0.002280567889676459, 0.8474590278037722, 0.0779954218269349, 0.028735155409923385, 0.04378690348178802, 0.008753525419486517, 0.08514792908045976, 0.7679229118004081, 0.0015915500762702759, 0.13607753152110857, 0.11451579898859146, 0.10929867830573992, 0.4734537019687779, 0.046171518043236194, 0.2566823375962961, 0.9968413042711728, 0.004317186405307171, 0.004317186405307171, 0.012951559215921515, 0.9800013140047279, 0.9952770830479988, 0.002633008156211637, 0.0026435249455649423, 0.010574099782259769, 0.9609213177128565, 0.025113486982866952, 0.030900586023292712, 0.07786947677869763, 0.7966171076804861, 0.028428539141429295, 0.0661272540898464, 0.015917844972911568, 0.048689878740670677, 0.9045081319901515, 0.0018726876438719493, 0.02809031465807924, 0.1434284123427815, 0.3384430659278088, 0.16448946173884052, 0.30111968725124855, 0.05251932570915977, 0.0009621606366703847, 0.7334069453020008, 0.01707835130089933, 0.20614291640662993, 0.04257560817266452, 0.02123900841099215, 0.9616144152976791, 0.009520934804927515, 0.007323796003790396, 0.9973470142568622, 0.8051146069633032, 0.034450228824103306, 0.028708524020086088, 0.06826249044776025, 0.0631587528441894, 0.9516923420932746, 0.002888292388750454, 0.025994631498754084, 0.01444146194375227, 0.004332438583125681, 0.008596658928567655, 0.0971796226707648, 0.6241921917699124, 0.018314621195644136, 0.25154571560547967, 0.38520526181651793, 0.18443075629766714, 0.12624137329465987, 0.22289492472338382, 0.08115516854656706, 0.255957064493209, 0.046537648089674366, 0.18382370995421374, 0.4995040894958382, 0.01396129442690231, 0.9891370904938349, 0.9990811267008434, 0.002361060237996937, 0.9652801273010811, 0.0035415903569954057, 0.024397622459301684, 0.004722120475993874, 0.9998068293807247, 0.012178341688431476, 0.9864456767629495, 0.02309168047238415, 0.9767780839818495, 0.47657978401630596, 0.18989411961726013, 0.15915270339799972, 0.11910102969519183, 0.05515888395913014, 0.02103360814219026, 0.8893558225339142, 0.08962146077976718, 0.9968119647556363, 0.010509475436964429, 0.9445391048971781, 0.043351586177478266, 0.0013136844296205536, 0.39329494491399136, 0.17258073442366775, 0.260336855818278, 0.08813438053855252, 0.08567569610292768, 0.007077104042975656, 0.9874245164723178, 0.003707054498701534, 0.001685024772137061, 0.9894294222049824, 0.10447587887581757, 0.011274375418253694, 0.8545976567036301, 0.024052000892274546, 0.005261375195185058, 0.036681842293492, 0.0032502898234739747, 0.8645770930440773, 0.0924010964101887, 0.0027859627058348354, 0.051932107127778855, 0.00853678473333351, 0.8821344224444628, 0.04908651221666769, 0.00853678473333351, 0.0038883850861159345, 0.0038883850861159345, 0.9876498118734474, 0.9928082875039037, 0.05931840821183965, 0.09872574233858628, 0.773628191014552, 0.018251817911335278, 0.04977768521273258, 0.0011136701979421577, 0.9972916622572021, 0.0002784175494855394, 0.0011136701979421577, 0.9974382886486178, 0.002325030975870904, 0.9981753746561178, 0.9872844379267876, 0.9965060683900027, 0.9957060450311433, 0.18276429075961156, 0.051690910517869934, 0.028306927188357346, 0.25107013680108253, 0.48675607404327526, 0.4209915653355746, 0.06805828267251371, 0.24244680850259334, 0.2604571428485003, 0.008139285714015634, 0.062287364242298575, 0.9025561210795814, 0.006106604337480253, 0.029311700819905213, 0.9924612716565463, 0.9979128390461871, 0.6899789719640358, 0.08404515732169712, 0.10599509531636717, 0.07798004287580146, 0.0421669861476556, 0.9973195038451501, 0.0027429034172714657, 0.0027429034172714657, 0.9901881336349991, 0.9877293836164822, 0.009066630411166413, 0.003199987203941087, 0.9921421811578899, 0.007224336270567159, 0.1927553214724487, 0.05217437272938461, 0.004347864394115384, 0.7521805401819615, 0.010116429380337428, 0.9914100792730679, 0.021620879046163444, 0.007206959682054482, 0.9657325973953006, 0.0021277073632131353, 0.059575806169967785, 0.9383189471769926, 0.009458465144149577, 0.10719593830036186, 0.8796372584059107, 0.007345765303722756, 0.991678316002572, 0.4301582445427946, 0.5081111389409947, 0.04464574860987819, 0.017007904232334548, 0.05310187861745746, 0.06247279837347936, 0.010932739715358887, 0.8496300578793193, 0.02420820936972325, 0.9883125518852409, 0.005894508261740999, 0.0039296721744939995, 0.0019648360872469997, 0.29667482308608106, 0.0936867862377098, 0.02282114023739085, 0.0042038942542562095, 0.5825396323755032, 0.1520451389634447, 0.014543448074764277, 0.0026442632863207774, 0.0013221316431603887, 0.8302986719047242, 0.006590024070585806, 0.988503610587871, 0.997371239006461, 0.35617347046116815, 0.2757852360808263, 0.20011311145079777, 0.09860956750655273, 0.06934825019210827, 0.4576285083160945, 0.18757796481746247, 0.22529931057600155, 0.04680876087309621, 0.08264403934370833, 0.054496604155765876, 0.02503898028778432, 0.051550841768967716, 0.010310168353793543, 0.8586897357516623, 0.9823794294191949, 0.01738724653839283, 0.9963822420973548, 0.508038599221983, 0.1678835776625404, 0.17055445276171716, 0.08375101203847185, 0.06982430616419293, 0.0010943915758961332, 0.3412938300258941, 0.20981049926465867, 0.3761580188008709, 0.07176081904804645, 0.15970670954337168, 0.16234816911597197, 0.2834489310598009, 0.31677195951414305, 0.07782146279276253, 0.998601427895281, 0.026762261690817902, 0.16057357014490742, 0.0015742506876951707, 0.8060163520999274, 0.004722752063085512, 0.9927882036060104, 0.9823035637348687, 0.9972087626037462, 0.0038987933658442453, 0.03556172130663993, 0.9529596148151419, 0.004135083872865109, 0.0035443576053129505, 0.18261494507191772, 0.12980166156843032, 0.44630943805764006, 0.15509252972502993, 0.08610052909195307, 0.985760114812164, 0.0009198885862903172, 0.9989990047112844, 0.013854757990485146, 0.9836878173244453, 0.15337878577795028, 0.6948816238536373, 0.05285851668630232, 0.0936902360366763, 0.005196764280956689, 0.21597878942028545, 0.03860182203818986, 0.15313119486224078, 0.24437186513432593, 0.34805444498896815, 0.1502767455950085, 0.05409962841420306, 0.003606641894280204, 0.7922590027768848, 0.9948960343864757, 0.003797313108345327, 0.013534645960529177, 0.9880291551186299, 0.006082040651191405, 0.10947673172144529, 0.8818958944227537, 0.0020273468837304683, 0.9795797890400048, 0.01843295301956998, 0.995553052237069, 0.0031604858801176795, 0.015360665346909701, 0.9845226445784936, 0.9942239136152364, 0.9990939064877447, 0.001043902420411242, 0.18268292357196733, 0.8163316927615912, 0.0026156705731950627, 0.9965704883873189, 0.0666715869508764, 0.9327004111338393, 0.05081609800204157, 0.9475707686263045, 0.9970537872297295, 0.02998482437045003, 0.03471927032367898, 0.009468891906457904, 0.9232169608796457, 0.0031562973021526347, 0.006966904139190328, 0.009289205518920438, 0.9846557850055664, 0.9905046088088169, 0.9905121787766332, 0.9903619919567592, 0.9988396446871204, 0.9920231820285106, 0.48516703737740685, 0.16644103492699722, 0.16064991644371254, 0.09753744926939689, 0.0902449296978532, 0.9956690142047506, 0.9972089048028271, 0.9964315124941879, 0.9974591520192103, 0.997054764237279, 0.028662125027821207, 0.015545559337123366, 0.015545559337123366, 0.9074720263045765, 0.03303431359138715, 0.647935990500079, 0.12377295263801644, 0.09183864991112607, 0.05307701349779709, 0.0834696602309755, 0.5408398547934259, 0.16746004392863112, 0.1416199175329452, 0.08473157725097005, 0.06540156021853835, 0.04943801829939813, 0.005704386726853631, 0.9450267344154182, 0.001919585036755018, 0.01919585036755018, 0.026874190514570254, 0.9501945931937339, 0.020235657136909554, 0.9814293711401133, 0.9940123704189485, 0.6935507220247389, 0.03187450200529401, 0.11436379111447195, 0.13486598335908317, 0.025307393551941972, 0.5777861578912397, 0.11670061411328497, 0.1575222054468389, 0.0583975542688341, 0.08953346710310729, 0.5812822531269466, 0.11625645062538932, 0.15436982912711952, 0.0608962360418706, 0.08729879992016414, 0.9926028231816965, 0.4600945749194479, 0.13371205355408836, 0.2596046887716803, 0.05645620038950397, 0.08992331086970853, 0.8971496004161749, 0.053738249110887176, 0.011864288764741325, 0.023030678190380217, 0.014306936451599831, 0.9982841439781948, 0.3724644700457862, 0.21620064065876093, 0.2465971663751412, 0.05908057111071091, 0.10574565988656229, 0.9819300220690657, 0.49289280563623983, 0.10908720644221974, 0.009068374129671078, 0.3752706588366826, 0.013602561194506618, 0.9938386666236569, 0.9974120730792237, 0.9990579870635473, 0.012670721601823347, 0.0003959600500569796, 0.9000171937795146, 0.08473545071219363, 0.0023757603003418774, 0.023034394567863516, 0.9758207153294908, 0.015754088932428786, 0.003150817786485757, 0.9799043315970705, 0.9964506706647845, 0.02032362567867785, 0.9416613231120738, 0.02225920907664717, 0.015484667183754554, 0.007886051392865422, 0.9857564241081779, 0.9871777393198947, 0.014446503502242362, 0.9807166048005759, 0.9971483222679455, 0.0022198275296024398, 0.1660430992142625, 0.0013318965177614639, 0.8133448068463339, 0.01687068922497854, 0.054304086887312614, 0.2499783173242407, 0.46091154738239715, 0.10254945333678456, 0.1321698643662278, 0.004905746875293546, 0.16385194563480443, 0.004905746875293546, 0.8133728319236698, 0.012754941875763218, 0.14043075287643558, 0.20468689072395593, 0.5593911355354695, 0.058037801926792566, 0.03756911285439698, 0.00676574924168089, 0.98779938928541, 0.9989229710423069, 0.9883342998082781, 0.007976870862052286, 0.003190748344820914, 0.9793533525871613, 0.008093829360224474, 0.0020234573400561185, 0.010117286700280592, 0.9927880474429174, 0.9958902046339335, 0.004155313788458693, 0.9975375484652784, 0.0016353074565004565, 0.9976597410029344, 0.9954155353037056, 0.0020524031655746507, 0.9896151619917511, 0.05619356667011781, 0.43269046335990713, 0.16015166500983577, 0.1692831195937299, 0.1817510671986623, 0.24538755787940852, 0.18445611009896848, 0.3969776143271094, 0.08419618238751715, 0.08881220115876261, 0.3243956399421687, 0.2519482432391447, 0.20896509878376207, 0.09318791936361853, 0.12149671073880333, 0.057265684283252745, 0.46909973432030383, 0.13827567668395174, 0.23385150515669761, 0.10156178850235417, 0.03261963099994263, 0.00931989457141218, 0.9599491408554546, 0.011253909265265769, 0.9790901060781219, 0.987020017604081, 0.9996780302743793, 0.04144799544567327, 0.22093583659302363, 0.06559595800967423, 0.20760039458006788, 0.46421754899154066, 0.9592291410521462, 0.005884841356148136, 0.017654524068444408, 0.002942420678074068, 0.01471210339037034, 0.2022127567488842, 0.3420179456055258, 0.09468206991494653, 0.2942945113349873, 0.06684339992379909, 0.000402348957763053, 0.9398871653344919, 0.01730100518381128, 0.04184429160735752, 0.000804697915526106, 0.005295178806245413, 0.9901984367678921, 0.011477083944960994, 0.045088544069489624, 0.128707298525634, 0.7935583756230173, 0.021314584469213277, 0.037943147050994344, 0.006208878608344529, 0.954097679482276, 0.0013797508018543398, 0.06497670065141767, 0.05164814667163968, 0.1457810591538217, 0.1499462322725023, 0.5881224443577034, 0.0019002348537989324, 0.9957230633906405, 0.004970434679682262, 0.0074556520195233926, 0.986631283916929, 0.998198881311803, 0.9948550704343765, 0.003151788797970926, 0.9928134713608416, 0.9932786895463476, 0.9823034889193026, 0.1673446122120688, 0.01004067673272413, 0.025938414892870666, 0.20081353465448257, 0.595746819474965, 0.08984588739735351, 0.8548194429519633, 0.047062131493851835, 0.007986301101986977, 0.04228210129563803, 0.002168312886955796, 0.9443002622692492, 0.010841564434778982, 0.9967280618026582, 0.0030164705718195447, 0.07104600143435412, 0.13851985754519322, 0.7013311985167806, 0.05358217985272517, 0.035324548199204, 0.9983764235633061, 0.27840888487217913, 0.14781576019415033, 0.31107495802052526, 0.20325556625637617, 0.059425209322154796, 0.013872938832693667, 0.2650992493302008, 0.6616130646937362, 0.02093552587479226, 0.038465875854286985, 0.0034875086359739617, 0.9939399612525791, 0.9952768933072144, 0.997346257433469, 0.13676992017544418, 0.045134073657896574, 0.005470796807017767, 0.013676992017544416, 0.7987363338245939, 0.9964753532126274, 0.008468773276729753, 0.005847486310122924, 0.000604912376909268, 0.9823777001006512, 0.002419649507637072, 0.0890182773462679, 0.7572787347356179, 0.013215598597625207, 0.12143389654799011, 0.018950669687160672, 0.9881025622807789, 0.005335327010155394, 0.006402392412186472, 0.057146554956148406, 0.9410132716112437, 0.9705469671127146, 0.005074755383595894, 0.002537377691797947, 0.005074755383595894, 0.016492954996686654, 0.9888900148892751, 0.9917271311840337, 0.012372146102240921, 0.012372146102240921, 0.9743065055514726, 0.9902221821401923, 0.00940084350133094, 0.0023630350359849285, 0.8422031907882581, 0.045247744948304004, 0.10371098213489409, 0.006476466394921656, 0.0007442958720244741, 0.9873084742404649, 0.011536586016379347, 0.010362273035193216, 0.9574740284518531, 0.020724546070386433, 0.010362273035193216, 0.9971216093075482, 0.9969261232691635, 0.9404946614200327, 0.012883488512603188, 0.0012883488512603187, 0.04509220979411116, 0.05354288271980304, 0.008635948825774682, 0.024180656712169114, 0.9119561960018066, 0.0017271897651549367, 0.05839883930951488, 0.08452463584271891, 0.6740455505566638, 0.07622585341452469, 0.10696208463005884, 0.012694834244438206, 0.08587681988884668, 0.8348720403107008, 0.012694834244438206, 0.053766356799973575, 0.005511599559258529, 0.9920879206665352, 0.9907149834918326, 0.985380682169104, 0.993709132308961, 0.013316747183293344, 0.05326698873317338, 0.863238552705251, 0.033683536993036105, 0.03603355120185258, 0.029101364307568028, 0.9426763366772929, 0.008314675516448008, 0.01974735435156402, 0.6178128152348569, 0.09405726180011394, 0.17717763269323789, 0.03487652989229031, 0.07607215230861927, 0.0071469870211450124, 0.9934311959391567, 0.9954454313621066, 0.008735703754713936, 0.06551777816035452, 0.001455950625785656, 0.9245286473738916, 0.0008400364507100663, 0.08568371797242676, 0.0016800729014201327, 0.9097594761190018, 0.0016800729014201327, 0.0013181001008396413, 0.2514934992402036, 0.18690659429906115, 0.4586988350921952, 0.10149370776465239, 0.0013341677733554353, 0.1731749769815355, 0.06777572288645611, 0.6628145498029802, 0.09499274546290698, 0.986695072890614, 0.013086864741295792, 0.980468449661899, 0.019082686836549224, 0.07512653389365236, 0.039540280996659134, 0.6286904678468802, 0.007299744183998609, 0.24910377027895253, 0.04754444478349545, 0.3759328192183361, 0.05528423812034354, 0.4990323894329677, 0.02174513366066846, 0.007300084315755043, 0.005475063236816282, 0.02920033726302017, 0.9563110453639107, 0.9970927419469303, 0.9987068121440387, 0.983344567701699, 0.7797825782692521, 0.18522449446288403, 0.03470346058785412, 0.07729298791896233, 0.46561829461627396, 0.11930920342259445, 0.2948857363792927, 0.04292884842183966, 0.9956479676683496, 0.9996259391249258, 0.04404646743046182, 0.0017618586972184727, 0.9531655551951936, 0.27345192943846724, 0.23076830791070338, 0.21022481924522102, 0.2025609271005851, 0.08302549823355564, 0.22775955903551637, 0.04046712906772404, 0.3982933192480882, 0.16939012395631006, 0.16411180277356346, 0.9978705962593484, 0.2819287714154999, 0.0317128358894938, 0.4904697236521711, 0.07106331811886568, 0.124858914078007, 0.22057845205074036, 0.02587031227755597, 0.1751919392830983, 0.0004538651276764205, 0.5777703075320834, 0.02832781522274778, 0.0005781186780152609, 0.18673233299892925, 0.7839289273886937, 0.0006328817546941082, 0.48636962848242216, 0.046833249847364006, 0.4221321303809702, 0.04398528195124052, 0.9817149694564542, 0.01633823755245908, 0.002131074463364228, 0.9910048571455565, 0.008998464948419976, 0.9920602949528987, 0.007220235043325318, 0.9935708896775581, 0.9940963475867248, 0.010433744389652139, 0.9807719726273011, 0.990108136147998, 0.0560467927362628, 0.019948858431551166, 0.003799782558390698, 0.9014984119781931, 0.018998912791953492, 0.9801018506283039, 0.0063368654135450685, 0.012673730827090137, 0.9879371949537594, 0.004323576345530676, 0.006485364518296013, 0.002161788172765338, 0.9951044857125224, 0.027474769572649622, 0.0017171730982906014, 0.9702028005341898, 0.9982750840126111, 0.0005573841898451206, 0.0005573841898451206, 0.0011147683796902412, 0.9990707310033147, 0.8438553909214145, 0.04741663625177472, 0.04420194904826457, 0.034557887437734115, 0.030539528433346428, 0.15665270243327778, 0.18679170111171603, 0.057824823045840794, 0.30594588193344857, 0.2926286499592549, 0.043731832320539565, 0.0038586910871064323, 0.95181046815292, 0.07734302134878117, 0.008924194771013211, 0.9102678666433476, 0.015568968849982599, 0.5057403752236284, 0.23202785834490197, 0.1890374153268855, 0.05765540722509685, 0.021357017072977706, 0.529587282731494, 0.32719617562585374, 0.08676288185897192, 0.03503885613535405, 0.761971198924581, 0.08644451618152647, 0.034348814376765485, 0.07156002995159476, 0.045798419169020645, 0.6354688866721981, 0.12628181305422634, 0.0822648020742422, 0.11346132441927949, 0.042521287305907006, 0.14277098326499876, 0.008429283144796974, 0.6058547260322825, 0.025814679630940734, 0.217317456076797, 0.9982532480066924, 0.07158244751939084, 0.0024970621227694482, 0.7702049392008875, 0.014704921389642306, 0.14094528426298664, 0.9963961638721041, 0.013523564278859911, 0.9308720078615238, 0.010518327772446597, 0.027047128557719822, 0.017280109911876552, 0.9877925293061809, 0.0036840567029492216, 0.979959082984493, 0.0018420283514746108, 0.011052170108847665, 0.07943078105599184, 0.9203014632694226, 0.015376830204659613, 0.9841171330982152, 0.9921422098820901, 0.029683481693773606, 0.9647131550476421, 0.9985108553828359, 0.29459046494288066, 0.7051165322181208, 0.11105026503003354, 0.2037530949681485, 0.07274597071532632, 0.08626513341463475, 0.5259598059683328, 0.10927643998414592, 0.02263583399671594, 0.21621124196863156, 0.010927643998414591, 0.6400477199071404, 0.6259819950779528, 0.1517309988069511, 0.1153253324265393, 0.03884899969453337, 0.06816899946399252, 0.5538284004511741, 0.16344612406025244, 0.1387012925292182, 0.06462959288039863, 0.07944393281016254, 0.5109297250966351, 0.24088822810883784, 0.13773050746021218, 0.04307582356794967, 0.0674636542647715, 0.997085416516124, 0.42125300234455393, 0.18512777051626333, 0.15417999604882762, 0.13762328600642973, 0.10185520355196678, 0.16397753286487735, 0.3280945024073609, 0.07961834291313347, 0.3710409991100668, 0.05744791117374955, 0.032232384220395226, 0.02355443462259651, 0.8665552526944716, 0.06446476844079045, 0.013016924396698071, 0.0032526633646138975, 0.04228462373998067, 0.953030365831872, 0.999860718910838, 4.427296842502825e-05, 4.427296842502825e-05, 0.06281804649853362, 0.0024160787114820624, 0.0193286296918565, 0.9144857922959606, 0.9977763949197312, 0.00427060342243694, 0.00213530171121847, 0.9929152957165885, 0.997416411462049, 0.12720438404574555, 0.11683331113685781, 0.4372782985665729, 0.060109891961716705, 0.2586418590747106, 0.9937764367317913, 0.16730980392161077, 0.12876194801204785, 0.3967805482628308, 0.09546144421582858, 0.21150865441477454, 0.247008075501587, 0.14294844507834056, 0.2553413929276786, 0.17200821866676255, 0.1826919589566236, 0.4770819209114731, 0.15852405599906544, 0.18213110156775741, 0.09127142618128009, 0.09099692565141158, 0.0029671877086265173, 0.019781251390843448, 0.014835938543132586, 0.9603797550254494, 0.0029671877086265173, 0.08497019122529158, 0.03186382170948434, 0.02811513680248618, 0.8528258163420809, 0.0018743424534990788, 0.9892881091554564, 0.006780590192977768, 0.0030512655868399955, 0.0006780590192977769, 0.9988604512755062, 0.9985684248927449, 0.0010818726163518363, 0.9996364382326047, 0.002839525107251063, 0.993833787537872, 0.002839525107251063, 0.9908298468797309, 0.4103014473253278, 0.20470795231662936, 0.20426518097059485, 0.11379223593087329, 0.06685847325121348, 0.16125547132234855, 0.12925294040481117, 0.0037284502039849374, 0.6965987797778525, 0.00869971714263152, 0.9899794357114607, 0.10891946814180445, 0.005145801644494698, 0.08290458205019237, 0.09062328451693441, 0.7124076498933771, 0.4998132142490452, 0.18883586499657964, 0.13279679952215057, 0.07133141608804967, 0.10724377494842324, 0.006632380312668624, 0.988224666587625, 0.2594078110994797, 0.6048233128304001, 0.02261740701757029, 0.08585383071975662, 0.02723320436809484, 0.0027594647940264363, 0.019316253558185056, 0.9768505370853585, 0.267246259642087, 0.19849955367622857, 0.30857300082385297, 0.1810504851772607, 0.04460664127555698, 0.40196956260373057, 0.13643539428752943, 0.3078806255997834, 0.09511863809290967, 0.05869296207086172, 0.02594901602053685, 0.05239705157993017, 0.7744783243052535, 0.14222056857409618, 0.004990195388564779, 0.41061236483707175, 0.08200134837601698, 0.12669632260164515, 0.15625072290260253, 0.22456499245071712, 0.23703105324067383, 0.19586353120506175, 0.3255265578540442, 0.13807254421445192, 0.10345662307286836, 0.34279436359074267, 0.14263770880129006, 0.23834799795901207, 0.17294339002085957, 0.10320939905133997, 0.8726604561639033, 0.12709364814580132, 0.9811361566622954], \"Term\": [\"000\", \"000\", \"000\", \"000\", \"000\", \"abu\", \"according\", \"according\", \"according\", \"according\", \"according\", \"administration\", \"administration\", \"administration\", \"administration\", \"afghan\", \"afghanistan\", \"afghanistan\", \"afghanistan\", \"afghanistan\", \"afghans\", \"ailes\", \"airstrikes\", \"album\", \"albums\", \"aleppo\", \"algae\", \"amaranth\", \"animal\", \"animal\", \"animal\", \"animal\", \"animals\", \"animals\", \"animals\", \"animals\", \"antibiotics\", \"army\", \"army\", \"army\", \"army\", \"army\", \"arrested\", \"arrested\", \"arrested\", \"arrested\", \"arrested\", \"art\", \"art\", \"art\", \"art\", \"artist\", \"artist\", \"artist\", \"artists\", \"artists\", \"asylum\", \"asylum\", \"athletes\", \"athletes\", \"attack\", \"attack\", \"attack\", \"attack\", \"attack\", \"attacks\", \"attacks\", \"attacks\", \"attacks\", \"attacks\", \"authorities\", \"authorities\", \"authorities\", \"authorities\", \"band\", \"band\", \"band\", \"band\", \"band\", \"bannon\", \"bass\", \"batman\", \"bats\", \"bats\", \"beijing\", \"beijing\", \"benefits\", \"benefits\", \"benefits\", \"benefits\", \"benefits\", \"bernie\", \"bernie\", \"biles\", \"black\", \"black\", \"black\", \"black\", \"black\", \"blockchain\", \"bombings\", \"book\", \"book\", \"book\", \"book\", \"book\", \"books\", \"books\", \"books\", \"books\", \"books\", \"bowie\", \"brazil\", \"brazil\", \"brazil\", \"brazil\", \"brazil\", \"broadway\", \"bush\", \"bush\", \"bush\", \"bush\", \"bush\", \"campaign\", \"campaign\", \"campaign\", \"campaign\", \"campaign\", \"cancer\", \"cancer\", \"cancer\", \"cancer\", \"candidate\", \"candidate\", \"candidate\", \"candidate\", \"candidate\", \"candidates\", \"candidates\", \"candidates\", \"candidates\", \"candidates\", \"care\", \"care\", \"care\", \"care\", \"care\", \"castile\", \"caucus\", \"caucuses\", \"cdc\", \"cdc\", \"character\", \"character\", \"character\", \"character\", \"characters\", \"characters\", \"characters\", \"children\", \"children\", \"children\", \"children\", \"children\", \"china\", \"china\", \"china\", \"china\", \"china\", \"chinese\", \"chinese\", \"chinese\", \"chinese\", \"chinese\", \"cholesterol\", \"city\", \"city\", \"city\", \"city\", \"city\", \"civilians\", \"civilians\", \"climate\", \"climate\", \"climate\", \"climate\", \"climate\", \"clinic\", \"clinic\", \"clinic\", \"clinics\", \"clinics\", \"clinics\", \"clinton\", \"comedy\", \"comey\", \"comic\", \"comics\", \"committee\", \"committee\", \"committee\", \"committee\", \"committee\", \"companies\", \"companies\", \"companies\", \"companies\", \"companies\", \"company\", \"company\", \"company\", \"company\", \"company\", \"composer\", \"conservation\", \"conservation\", \"conservation\", \"conservation\", \"conservatives\", \"conservatives\", \"consumers\", \"consumers\", \"consumers\", \"consumers\", \"cost\", \"cost\", \"cost\", \"cost\", \"cost\", \"costs\", \"costs\", \"costs\", \"costs\", \"costs\", \"country\", \"country\", \"country\", \"country\", \"country\", \"court\", \"court\", \"court\", \"court\", \"court\", \"cruz\", \"cruz\", \"cruz\", \"cruz\", \"culinary\", \"culture\", \"culture\", \"culture\", \"culture\", \"culture\", \"dad\", \"dad\", \"dad\", \"dad\", \"dad\", \"data\", \"data\", \"data\", \"data\", \"data\", \"day\", \"day\", \"day\", \"day\", \"day\", \"death\", \"death\", \"death\", \"death\", \"death\", \"deductibles\", \"delegates\", \"democratic\", \"democratic\", \"democratic\", \"democratic\", \"democratic\", \"democrats\", \"detained\", \"detained\", \"diabetes\", \"diabetes\", \"didn\", \"didn\", \"didn\", \"didn\", \"didn\", \"disease\", \"disease\", \"disease\", \"dnc\", \"doctors\", \"doctors\", \"doctors\", \"doctors\", \"don\", \"don\", \"don\", \"don\", \"don\", \"donald\", \"donald\", \"donald\", \"donald\", \"doping\", \"dr\", \"dr\", \"dr\", \"dr\", \"dr\", \"drug\", \"drug\", \"drug\", \"drug\", \"drug\", \"drugs\", \"drugs\", \"drugs\", \"drugs\", \"drugs\", \"duterte\", \"duterte\", \"duterte\", \"editorially\", \"education\", \"education\", \"education\", \"education\", \"education\", \"election\", \"election\", \"election\", \"election\", \"electoral\", \"electoral\", \"enrollment\", \"epipen\", \"erdogan\", \"evacuation\", \"facebook\", \"facebook\", \"facebook\", \"facebook\", \"facebook\", \"family\", \"family\", \"family\", \"family\", \"family\", \"farmers\", \"farmers\", \"farmers\", \"farmers\", \"fcc\", \"fda\", \"feel\", \"feel\", \"feel\", \"feel\", \"feel\", \"fentanyl\", \"fighters\", \"fighters\", \"fighters\", \"film\", \"film\", \"film\", \"films\", \"films\", \"fish\", \"fish\", \"fish\", \"fish\", \"fisheries\", \"fisheries\", \"fishermen\", \"fishermen\", \"fishermen\", \"flint\", \"flint\", \"flint\", \"flu\", \"flu\", \"flu\", \"flynn\", \"flynn\", \"food\", \"food\", \"food\", \"food\", \"forces\", \"forces\", \"forces\", \"forces\", \"forces\", \"funny\", \"funny\", \"funny\", \"funny\", \"game\", \"game\", \"game\", \"game\", \"game\", \"games\", \"games\", \"games\", \"games\", \"games\", \"gaza\", \"gaza\", \"genre\", \"going\", \"going\", \"going\", \"going\", \"going\", \"good\", \"good\", \"good\", \"good\", \"good\", \"google\", \"google\", \"google\", \"google\", \"google\", \"gop\", \"gop\", \"gorsuch\", \"got\", \"got\", \"got\", \"got\", \"got\", \"government\", \"government\", \"government\", \"government\", \"government\", \"group\", \"group\", \"group\", \"group\", \"group\", \"guitar\", \"gun\", \"gun\", \"gun\", \"gun\", \"gun\", \"gunfire\", \"gymnasts\", \"haram\", \"health\", \"health\", \"health\", \"health\", \"health\", \"help\", \"help\", \"help\", \"help\", \"help\", \"hepatitis\", \"hillary\", \"hillary\", \"hiv\", \"hiv\", \"house\", \"house\", \"house\", \"house\", \"house\", \"human\", \"human\", \"human\", \"human\", \"human\", \"humans\", \"humans\", \"humans\", \"humans\", \"humor\", \"humor\", \"hydrogen\", \"hydrogen\", \"income\", \"income\", \"income\", \"income\", \"infection\", \"infection\", \"infections\", \"infections\", \"insurance\", \"insurance\", \"insurer\", \"insurers\", \"iraq\", \"iraq\", \"iraq\", \"iraqi\", \"iraqi\", \"isis\", \"isis\", \"islamic\", \"islamic\", \"islamist\", \"israel\", \"israel\", \"israel\", \"israel\", \"israel\", \"israeli\", \"israeli\", \"israeli\", \"israelis\", \"jama\", \"janeiro\", \"jazz\", \"jong\", \"just\", \"just\", \"just\", \"just\", \"just\", \"justices\", \"kabul\", \"kaine\", \"kaiser\", \"kasich\", \"killed\", \"killed\", \"killed\", \"killed\", \"killed\", \"kind\", \"kind\", \"kind\", \"kind\", \"kind\", \"know\", \"know\", \"know\", \"know\", \"know\", \"korea\", \"korea\", \"korea\", \"korean\", \"korean\", \"korean\", \"korean\", \"koreans\", \"koreans\", \"kurdish\", \"life\", \"life\", \"life\", \"life\", \"life\", \"like\", \"like\", \"like\", \"like\", \"like\", \"little\", \"little\", \"little\", \"little\", \"little\", \"lochte\", \"lot\", \"lot\", \"lot\", \"lot\", \"lot\", \"love\", \"love\", \"love\", \"love\", \"love\", \"lyrics\", \"make\", \"make\", \"make\", \"make\", \"make\", \"mammal\", \"man\", \"man\", \"man\", \"man\", \"man\", \"mateen\", \"mccain\", \"medicaid\", \"medical\", \"medical\", \"medical\", \"medical\", \"medical\", \"medicare\", \"medicare\", \"medication\", \"medication\", \"medication\", \"medications\", \"medicine\", \"medicine\", \"medicine\", \"medicine\", \"methane\", \"methane\", \"microcephaly\", \"microcephaly\", \"midazolam\", \"militants\", \"military\", \"military\", \"military\", \"military\", \"military\", \"million\", \"million\", \"million\", \"million\", \"million\", \"minister\", \"minister\", \"minister\", \"minister\", \"minister\", \"money\", \"money\", \"money\", \"money\", \"money\", \"mosque\", \"mosque\", \"mosul\", \"movie\", \"movie\", \"movie\", \"movies\", \"movies\", \"movies\", \"movies\", \"msf\", \"music\", \"music\", \"musical\", \"musical\", \"musician\", \"musicians\", \"musicians\", \"mylan\", \"national\", \"national\", \"national\", \"national\", \"national\", \"need\", \"need\", \"need\", \"need\", \"need\", \"new\", \"new\", \"new\", \"new\", \"new\", \"news\", \"news\", \"news\", \"news\", \"news\", \"nfl\", \"nfl\", \"nfl\", \"nitrogen\", \"nitrogen\", \"noaa\", \"nominee\", \"north\", \"north\", \"north\", \"north\", \"north\", \"novel\", \"novel\", \"novel\", \"novel\", \"novel\", \"npr\", \"npr\", \"npr\", \"npr\", \"npr\", \"obama\", \"obama\", \"obama\", \"obama\", \"obama\", \"obesity\", \"obesity\", \"officer\", \"officer\", \"officer\", \"officer\", \"officer\", \"officers\", \"officers\", \"officers\", \"officers\", \"oil\", \"oil\", \"oil\", \"oil\", \"oil\", \"olympic\", \"olympic\", \"olympics\", \"olympics\", \"olympics\", \"opioid\", \"opioids\", \"palestinian\", \"palestinian\", \"palestinians\", \"paralympic\", \"park\", \"park\", \"park\", \"park\", \"park\", \"party\", \"party\", \"party\", \"party\", \"patient\", \"patient\", \"patient\", \"patient\", \"patients\", \"patients\", \"pay\", \"pay\", \"pay\", \"pay\", \"pay\", \"pence\", \"people\", \"people\", \"people\", \"people\", \"people\", \"percent\", \"percent\", \"percent\", \"percent\", \"percent\", \"physicians\", \"physicians\", \"piano\", \"planets\", \"players\", \"players\", \"players\", \"players\", \"players\", \"poetry\", \"police\", \"police\", \"police\", \"police\", \"police\", \"political\", \"political\", \"political\", \"political\", \"political\", \"polls\", \"polls\", \"polls\", \"pollution\", \"pollution\", \"pop\", \"pop\", \"pop\", \"pop\", \"pop\", \"prescribe\", \"prescribing\", \"prescription\", \"prescription\", \"prescription\", \"presidency\", \"presidency\", \"president\", \"president\", \"president\", \"president\", \"president\", \"presidential\", \"presidential\", \"presidential\", \"prevention\", \"prevention\", \"prevention\", \"prevention\", \"preventive\", \"primaries\", \"prince\", \"prince\", \"prince\", \"prince\", \"prison\", \"prison\", \"prison\", \"prison\", \"prison\", \"program\", \"program\", \"program\", \"program\", \"program\", \"programs\", \"programs\", \"programs\", \"programs\", \"programs\", \"providers\", \"providers\", \"pyongyang\", \"raisman\", \"raqqa\", \"rate\", \"rate\", \"rate\", \"rate\", \"rate\", \"rates\", \"rates\", \"rates\", \"rates\", \"really\", \"really\", \"really\", \"really\", \"really\", \"rebels\", \"rebels\", \"recipes\", \"refugee\", \"refugee\", \"refugee\", \"refugee\", \"refugees\", \"refugees\", \"refugees\", \"refugees\", \"refugees\", \"reported\", \"reported\", \"reported\", \"reported\", \"reported\", \"reports\", \"reports\", \"reports\", \"reports\", \"reports\", \"republican\", \"republican\", \"republicans\", \"republicans\", \"research\", \"research\", \"research\", \"research\", \"research\", \"rights\", \"rights\", \"rights\", \"rights\", \"rights\", \"rio\", \"rio\", \"rio\", \"rio\", \"romney\", \"rubio\", \"rugby\", \"russia\", \"russia\", \"russia\", \"said\", \"said\", \"said\", \"said\", \"said\", \"samsung\", \"sanders\", \"saudi\", \"saudi\", \"saudi\", \"say\", \"say\", \"say\", \"say\", \"say\", \"says\", \"says\", \"says\", \"says\", \"says\", \"scalia\", \"school\", \"school\", \"school\", \"school\", \"school\", \"science\", \"science\", \"science\", \"science\", \"science\", \"scientists\", \"scientists\", \"scientists\", \"scientists\", \"security\", \"security\", \"security\", \"security\", \"security\", \"sen\", \"sen\", \"sen\", \"senate\", \"senate\", \"senator\", \"senator\", \"seoul\", \"shakespeare\", \"shanghai\", \"shanghai\", \"shiite\", \"shooting\", \"shooting\", \"shooting\", \"shooting\", \"shooting\", \"singer\", \"singer\", \"singer\", \"singing\", \"singing\", \"singing\", \"singing\", \"sings\", \"soldiers\", \"soldiers\", \"soldiers\", \"song\", \"song\", \"song\", \"song\", \"songs\", \"sound\", \"sound\", \"sound\", \"sound\", \"sound\", \"south\", \"south\", \"south\", \"south\", \"south\", \"species\", \"species\", \"species\", \"sport\", \"sport\", \"sport\", \"state\", \"state\", \"state\", \"state\", \"state\", \"states\", \"states\", \"states\", \"states\", \"states\", \"stories\", \"stories\", \"stories\", \"stories\", \"stories\", \"story\", \"story\", \"story\", \"story\", \"story\", \"students\", \"students\", \"students\", \"students\", \"students\", \"studio\", \"study\", \"study\", \"study\", \"study\", \"study\", \"superhero\", \"supreme\", \"supreme\", \"supreme\", \"supreme\", \"supreme\", \"swimmers\", \"symptoms\", \"symptoms\", \"symptoms\", \"symptoms\", \"syria\", \"syria\", \"syrian\", \"syrian\", \"syrians\", \"taiwan\", \"taiwan\", \"taliban\", \"tax\", \"tax\", \"team\", \"team\", \"team\", \"team\", \"team\", \"technology\", \"technology\", \"technology\", \"technology\", \"technology\", \"thing\", \"thing\", \"thing\", \"thing\", \"thing\", \"things\", \"things\", \"things\", \"things\", \"things\", \"think\", \"think\", \"think\", \"think\", \"think\", \"tillerson\", \"time\", \"time\", \"time\", \"time\", \"time\", \"told\", \"told\", \"told\", \"told\", \"told\", \"treatment\", \"treatment\", \"treatment\", \"treatment\", \"treatment\", \"troops\", \"troops\", \"troops\", \"trump\", \"trump\", \"trump\", \"turkey\", \"turkey\", \"turkey\", \"turkey\", \"turkish\", \"uber\", \"uber\", \"uber\", \"uninsured\", \"university\", \"university\", \"university\", \"university\", \"university\", \"usda\", \"use\", \"use\", \"use\", \"use\", \"use\", \"used\", \"used\", \"used\", \"used\", \"used\", \"ve\", \"ve\", \"ve\", \"ve\", \"ve\", \"victims\", \"victims\", \"victims\", \"victims\", \"victims\", \"violence\", \"violence\", \"violence\", \"violence\", \"violence\", \"vote\", \"vote\", \"vote\", \"vote\", \"voter\", \"voters\", \"voters\", \"votes\", \"voting\", \"voting\", \"voting\", \"vr\", \"want\", \"want\", \"want\", \"want\", \"want\", \"war\", \"war\", \"war\", \"war\", \"war\", \"warmbier\", \"water\", \"water\", \"water\", \"water\", \"water\", \"way\", \"way\", \"way\", \"way\", \"way\", \"whales\", \"whales\", \"white\", \"white\", \"white\", \"white\", \"white\", \"wildlife\", \"wildlife\", \"wildlife\", \"women\", \"women\", \"women\", \"women\", \"women\", \"work\", \"work\", \"work\", \"work\", \"work\", \"workers\", \"workers\", \"workers\", \"workers\", \"workers\", \"world\", \"world\", \"world\", \"world\", \"world\", \"year\", \"year\", \"year\", \"year\", \"year\", \"years\", \"years\", \"years\", \"years\", \"years\", \"zika\", \"zika\", \"zoos\"]}, \"R\": 30, \"lambda.step\": 0.01, \"plot.opts\": {\"xlab\": \"PC1\", \"ylab\": \"PC2\"}, \"topic.order\": [4, 2, 3, 5, 1]};\n",
       "\n",
       "function LDAvis_load_lib(url, callback){\n",
       "  var s = document.createElement('script');\n",
       "  s.src = url;\n",
       "  s.async = true;\n",
       "  s.onreadystatechange = s.onload = callback;\n",
       "  s.onerror = function(){console.warn(\"failed to load library \" + url);};\n",
       "  document.getElementsByTagName(\"head\")[0].appendChild(s);\n",
       "}\n",
       "\n",
       "if(typeof(LDAvis) !== \"undefined\"){\n",
       "   // already loaded: just create the visualization\n",
       "   !function(LDAvis){\n",
       "       new LDAvis(\"#\" + \"ldavis_el67051123277353608166961288\", ldavis_el67051123277353608166961288_data);\n",
       "   }(LDAvis);\n",
       "}else if(typeof define === \"function\" && define.amd){\n",
       "   // require.js is available: use it to load d3/LDAvis\n",
       "   require.config({paths: {d3: \"https://cdnjs.cloudflare.com/ajax/libs/d3/3.5.5/d3.min\"}});\n",
       "   require([\"d3\"], function(d3){\n",
       "      window.d3 = d3;\n",
       "      LDAvis_load_lib(\"https://cdn.rawgit.com/bmabey/pyLDAvis/files/ldavis.v1.0.0.js\", function(){\n",
       "        new LDAvis(\"#\" + \"ldavis_el67051123277353608166961288\", ldavis_el67051123277353608166961288_data);\n",
       "      });\n",
       "    });\n",
       "}else{\n",
       "    // require.js not available: dynamically load d3 & LDAvis\n",
       "    LDAvis_load_lib(\"https://cdnjs.cloudflare.com/ajax/libs/d3/3.5.5/d3.min.js\", function(){\n",
       "         LDAvis_load_lib(\"https://cdn.rawgit.com/bmabey/pyLDAvis/files/ldavis.v1.0.0.js\", function(){\n",
       "                 new LDAvis(\"#\" + \"ldavis_el67051123277353608166961288\", ldavis_el67051123277353608166961288_data);\n",
       "            })\n",
       "         });\n",
       "}\n",
       "</script>"
      ],
      "text/plain": [
       "PreparedData(topic_coordinates=               x           y  topics  cluster       Freq\n",
       "topic                                                   \n",
       "3      10.844089  -55.716682       1        1  28.766826\n",
       "1      41.403446  -86.304688       2        1  22.900112\n",
       "2      26.546745 -128.632858       3        1  20.429975\n",
       "4     -31.500032  -70.526352       4        1  16.801175\n",
       "0     -12.336254 -109.429749       5        1  11.101912, topic_info=      Category          Freq          Term         Total  loglift  logprob\n",
       "50426  Default  22587.000000         trump  22587.000000  30.0000  30.0000\n",
       "42993  Default  45469.000000          says  45469.000000  29.0000  29.0000\n",
       "22673  Default   8464.000000        health   8464.000000  28.0000  28.0000\n",
       "9767   Default   7278.000000       clinton   7278.000000  27.0000  27.0000\n",
       "38079  Default  11425.000000     president  11425.000000  26.0000  26.0000\n",
       "42561  Default  28489.000000          said  28489.000000  25.0000  25.0000\n",
       "37374  Default   4959.000000        police   4959.000000  24.0000  24.0000\n",
       "7900   Default   5557.000000      campaign   5557.000000  23.0000  23.0000\n",
       "34145  Default   4970.000000         obama   4970.000000  22.0000  22.0000\n",
       "36310  Default   7929.000000       percent   7929.000000  21.0000  21.0000\n",
       "16123  Default   3591.000000      election   3591.000000  20.0000  20.0000\n",
       "8149   Default   5529.000000          care   5529.000000  19.0000  19.0000\n",
       "41009  Default   3667.000000    republican   3667.000000  18.0000  18.0000\n",
       "53152  Default   3497.000000         water   3497.000000  17.0000  17.0000\n",
       "9189   Default   2401.000000         china   2401.000000  16.0000  16.0000\n",
       "32729  Default   3609.000000         music   3609.000000  15.0000  15.0000\n",
       "15010  Default   2967.000000        donald   2967.000000  14.0000  14.0000\n",
       "52782  Default   2949.000000          vote   2949.000000  13.0000  13.0000\n",
       "52786  Default   2772.000000        voters   2772.000000  12.0000  12.0000\n",
       "38081  Default   2687.000000  presidential   2687.000000  11.0000  11.0000\n",
       "35959  Default   2320.000000      patients   2320.000000  10.0000  10.0000\n",
       "43714  Default   2555.000000        senate   2555.000000   9.0000   9.0000\n",
       "41011  Default   2620.000000   republicans   2620.000000   8.0000   8.0000\n",
       "42749  Default   2341.000000       sanders   2341.000000   7.0000   7.0000\n",
       "23698  Default   6734.000000         house   6734.000000   6.0000   6.0000\n",
       "13436  Default   2300.000000     democrats   2300.000000   5.0000   5.0000\n",
       "47218  Default   3604.000000         study   3604.000000   4.0000   4.0000\n",
       "46581  Default   9955.000000         state   9955.000000   3.0000   3.0000\n",
       "35843  Default   3506.000000         party   3506.000000   2.0000   2.0000\n",
       "13431  Default   2541.000000    democratic   2541.000000   1.0000   1.0000\n",
       "...        ...           ...           ...           ...      ...      ...\n",
       "18833   Topic5    518.858036          fish    689.993921   1.9130  -6.8746\n",
       "9736    Topic5    905.956163       climate   1369.710147   1.7847  -6.3172\n",
       "43232   Topic5   1272.779875       science   2203.297718   1.6493  -5.9772\n",
       "48690   Topic5   1634.399186          team   3106.701275   1.5558  -5.7272\n",
       "48738   Topic5    820.175402    technology   1281.154474   1.7521  -6.4167\n",
       "20208   Topic5    970.261049          game   1665.122759   1.6580  -6.2486\n",
       "33864   Topic5   1288.017281         north   2774.561200   1.4307  -5.9653\n",
       "35751   Topic5    711.570235          park   1195.138567   1.6795  -6.5587\n",
       "34435   Topic5    706.147428           oil   1200.430296   1.6674  -6.5664\n",
       "42993   Topic5   7461.854476          says  45469.002679   0.3908  -4.2086\n",
       "54102   Topic5   1853.618518         world   8255.961803   0.7043  -5.6013\n",
       "17914   Topic5    791.101288      facebook   1625.043923   1.4782  -6.4528\n",
       "23826   Topic5   1090.797125         human   3134.567065   1.1425  -6.1315\n",
       "51417   Topic5   1222.255723    university   4724.679928   0.8460  -6.0177\n",
       "33390   Topic5   2102.541945           new  17309.110569   0.0900  -5.4753\n",
       "28659   Topic5   1895.056915          like  21165.269941  -0.2151  -5.5792\n",
       "26752   Topic5   1682.926584          just  18649.247172  -0.2072  -5.6979\n",
       "10425   Topic5    984.136070       company   3833.532175   0.8383  -6.2344\n",
       "49459   Topic5   1458.164507          time  14314.438037  -0.0860  -5.8413\n",
       "51917   Topic5   1048.227154           use   4954.879992   0.6448  -6.1713\n",
       "36283   Topic5   1670.095650        people  28102.551410  -0.6249  -5.7056\n",
       "54412   Topic5   1335.039541         years  12934.868455  -0.0729  -5.9295\n",
       "33036   Topic5   1034.827706      national   5694.602051   0.4928  -6.1842\n",
       "53211   Topic5   1086.513068           way  10135.786441  -0.0350  -6.1355\n",
       "45814   Topic5    835.228384         south   2853.445827   0.9695  -6.3985\n",
       "54403   Topic5   1058.498019          year  10226.508159  -0.0701  -6.1616\n",
       "42561   Topic5   1222.669567          said  28489.000869  -0.9504  -6.0174\n",
       "29746   Topic5    987.985552          make   9343.173054  -0.0487  -6.2305\n",
       "15008   Topic5    906.446777           don  10574.760886  -0.2586  -6.3167\n",
       "51918   Topic5    855.172696          used   4680.008934   0.4983  -6.3749\n",
       "\n",
       "[469 rows x 6 columns], token_table=       Topic      Freq            Term\n",
       "term                                  \n",
       "1          1  0.045354             000\n",
       "1          2  0.089227             000\n",
       "1          3  0.464277             000\n",
       "1          4  0.253982             000\n",
       "1          5  0.147354             000\n",
       "1381       4  0.995474             abu\n",
       "1483       1  0.031381       according\n",
       "1483       2  0.179684       according\n",
       "1483       3  0.297618       according\n",
       "1483       4  0.358019       according\n",
       "1483       5  0.133287       according\n",
       "1762       2  0.753409  administration\n",
       "1762       3  0.196439  administration\n",
       "1762       4  0.032054  administration\n",
       "1762       5  0.017938  administration\n",
       "1983       4  0.998900          afghan\n",
       "1985       1  0.002843     afghanistan\n",
       "1985       2  0.042639     afghanistan\n",
       "1985       3  0.005685     afghanistan\n",
       "1985       4  0.948011     afghanistan\n",
       "1986       4  0.994758         afghans\n",
       "2160       2  0.998690           ailes\n",
       "2224       4  0.997065      airstrikes\n",
       "2317       1  0.999373           album\n",
       "2318       1  0.998042          albums\n",
       "2347       4  0.997555          aleppo\n",
       "2376       5  0.985656           algae\n",
       "2620       5  0.983345        amaranth\n",
       "2971       1  0.184467          animal\n",
       "2971       3  0.063174          animal\n",
       "...      ...       ...             ...\n",
       "53989      4  0.181050           women\n",
       "53989      5  0.044607           women\n",
       "54067      1  0.401970            work\n",
       "54067      2  0.136435            work\n",
       "54067      3  0.307881            work\n",
       "54067      4  0.095119            work\n",
       "54067      5  0.058693            work\n",
       "54078      1  0.025949         workers\n",
       "54078      2  0.052397         workers\n",
       "54078      3  0.774478         workers\n",
       "54078      4  0.142221         workers\n",
       "54078      5  0.004990         workers\n",
       "54102      1  0.410612           world\n",
       "54102      2  0.082001           world\n",
       "54102      3  0.126696           world\n",
       "54102      4  0.156251           world\n",
       "54102      5  0.224565           world\n",
       "54403      1  0.237031            year\n",
       "54403      2  0.195864            year\n",
       "54403      3  0.325527            year\n",
       "54403      4  0.138073            year\n",
       "54403      5  0.103457            year\n",
       "54412      1  0.342794           years\n",
       "54412      2  0.142638           years\n",
       "54412      3  0.238348           years\n",
       "54412      4  0.172943           years\n",
       "54412      5  0.103209           years\n",
       "54692      3  0.872660            zika\n",
       "54692      5  0.127094            zika\n",
       "54751      5  0.981136            zoos\n",
       "\n",
       "[1206 rows x 3 columns], R=30, lambda_step=0.01, plot_opts={'xlab': 'PC1', 'ylab': 'PC2'}, topic_order=[4, 2, 3, 5, 1])"
      ]
     },
     "execution_count": 51,
     "metadata": {},
     "output_type": "execute_result"
    }
   ],
   "source": [
    "import pyLDAvis.sklearn\n",
    "\n",
    "panel = pyLDAvis.sklearn.prepare(LDA, dtm, cv, mds='tsne')\n",
    "panel"
   ]
  },
  {
   "cell_type": "code",
   "execution_count": null,
   "metadata": {},
   "outputs": [],
   "source": []
  }
 ],
 "metadata": {
  "kernelspec": {
   "display_name": "Python 3",
   "language": "python",
   "name": "python3"
  },
  "language_info": {
   "codemirror_mode": {
    "name": "ipython",
    "version": 3
   },
   "file_extension": ".py",
   "mimetype": "text/x-python",
   "name": "python",
   "nbconvert_exporter": "python",
   "pygments_lexer": "ipython3",
   "version": "3.7.3"
  }
 },
 "nbformat": 4,
 "nbformat_minor": 4
}
